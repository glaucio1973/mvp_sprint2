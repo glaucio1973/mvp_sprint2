{
  "cells": [
    {
      "cell_type": "markdown",
      "metadata": {
        "id": "view-in-github",
        "colab_type": "text"
      },
      "source": [
        "<a href=\"https://colab.research.google.com/github/glaucio1973/mvp_sprint2/blob/main/MVP_SprintII_Final_para_entrega.ipynb\" target=\"_parent\"><img src=\"https://colab.research.google.com/assets/colab-badge.svg\" alt=\"Open In Colab\"/></a>"
      ]
    },
    {
      "cell_type": "markdown",
      "metadata": {
        "id": "s3o78ec-hB3G"
      },
      "source": [
        "# MVP - Sprint 2  - Machine Learning e Analytics\n",
        "\n",
        "## Profs. Hugo Villamizar e Patrick Happ\n",
        "\n",
        "### Aluno: Gláucio Canha\n"
      ]
    },
    {
      "cell_type": "markdown",
      "metadata": {
        "id": "rAiBc-RPKXCU"
      },
      "source": [
        "##Parte A"
      ]
    },
    {
      "cell_type": "markdown",
      "metadata": {
        "id": "bUYK6Bl9idID"
      },
      "source": [
        "### 1. Definição do Problema"
      ]
    },
    {
      "cell_type": "markdown",
      "metadata": {
        "id": "A9Q9SYIsif05"
      },
      "source": [
        "Este conjunto de dados foi retirado da plataforma do Kaggle, fornece uma visão abrangente dos alunos matriculados em vários cursos de graduação oferecidos em uma instituição de ensino superior. Inclui dados demográficos, fatores socioeconômicos e informações de desempenho acadêmico que podem ser usados ​​para analisar os possíveis preditores de evasão e sucesso acadêmico. Este conjunto de dados contém vários bancos de dados disjuntos que consistem em informações relevantes disponíveis no momento da inscrição, como modo de inscrição, estado civil, curso escolhido e muito mais. Adicionalmente, estes dados podem ser utilizados para estimar o desempenho global dos alunos no final de cada semestre, através da avaliação das unidades curriculares creditadas/inscritas/avaliadas/aprovadas, bem como das respetivas classificações. Finalmente, temos a taxa de desemprego, a taxa de inflação e o PIB da região, o que pode nos ajudar a entender melhor como os fatores econômicos influenciam as taxas de evasão estudantil ou os resultados de sucesso acadêmico. Esta poderosa ferramenta de análise fornecerá informações valiosas sobre o que motiva os alunos a permanecer na escola ou abandonar seus estudos para uma ampla gama de disciplinas, como agronomia, design, educação, enfermagem, jornalismo, gerenciamento, serviço social ou tecnologias"
      ]
    },
    {
      "cell_type": "markdown",
      "metadata": {
        "id": "fbaBZzxSj0sI"
      },
      "source": [
        "**Dicionario inicial de dados:**\n",
        "\n",
        "\n",
        "| Variável | Descrição |\n",
        "| --- | --- |\n",
        "| Marital Status | Estado Civil (Categorica) |\n",
        "| Application Mode | O Método de aplicação usado pelo estudante |\n",
        "| Application Order | A ordem em que o aluno se inscreveu. (Numérico) |\n",
        "| Course | O curso feito pelo aluno. (Categórico) |\n",
        "| Daytime/evening attendance | Se o aluno frequenta as aulas durante o dia ou à noite. (Categórico) |\n",
        "| Previous qualification |A qualificação obtida pelo aluno antes de ingressar no ensino superior. (Categórico) |\n",
        "| Nacionality | Nacionalidade do aluno |\n",
        "| Mother's Qualification | A qualificação da mãe do aluno. (Categórico) |\n",
        "| Father's Qualification  | A qualificação da pai do aluno.(Categórico) |\n",
        "| Mother's ocuppation | A ocupação da mãe do aluno. (Categórico) |\n",
        "| Father's ocuppation | A ocupação da pai do aluno. (Categórico) |\n",
        "| Displaced | Se o aluno é uma pessoa deslocada. (Categórico) |\n",
        "| Educational special needs | Se o aluno tem alguma necessidade educacional especial. (Categórico) |\n",
        "| Debtor |Se o aluno é devedor. (Categórico) |\n",
        "| Tuition fees uo to date | Se as mensalidades do aluno estão em dia. (Categórico) |\n",
        "| Gender | O gênero do aluno. (Categórico) |\n",
        "| Scholarship holder | Se o aluno é bolsista. (Categórico) |\n",
        "| Age at enrollment | A idade do aluno no momento da matrícula. (Numérico) |\n",
        "| International | Se o aluno é um estudante internacional. (Categórico) |\n",
        "| Curricular units 1st sem (credited) | O número de unidades curriculares creditadas pelo aluno no primeiro semestre. (Numérico) |\n",
        "| Curricular units 1st sem (enrolled) | O número de unidades curriculares inscritas pelo aluno no primeiro semestre. (Numérico) |\n",
        "| Curricular units 1st sem (approved) |O número de unidades curriculares avaliadas pelo aluno no primeiro semestre. (Numérico) |\n",
        "| Curricular units 1st sem (grade) | O número de unidades curriculares com notas  pelo aluno no primeiro semestre. (Numérico) |\n",
        "| Curricular units 2nd sem (credited) | O número de unidades curriculares creditadas pelo aluno no segundo semestre |\n",
        "| Curricular units 2nd sem (enrolled) | O número de unidades curriculares inscritas pelo aluno no segundo semestre. (Numérico) |\n",
        "| Curricular units 2nd sem (evaluation) | Unidades curriculares 2º semestre (avaliação) |\n",
        "| Curricular units 2st sem (approved) |O número de unidades curriculares avaliadas pelo aluno no segundo semestre. (Numérico) |\n",
        "| Curricular units 2nd sem (grade) |O número de unidades curriculares com notas  pelo aluno no segundo semestre. (Numérico) |\n",
        "| Curricular units 2nd sem (without evaluations) |O número de unidades curriculares sem notas  pelo aluno no segundo semestre. (Numérico) |\n",
        "| Unemployment rate | Indice de desempregados|\n",
        "| Inflation rate | Indice de Inflação |\n",
        "| GDP | PIB |\n",
        "| Target | Classes - Graduados, Abandonados , Inscritos |\n",
        "\n"
      ]
    },
    {
      "cell_type": "markdown",
      "metadata": {
        "id": "NRU3xprqj8qz"
      },
      "source": [
        "###Importação das bliliotecas utilizadas"
      ]
    },
    {
      "cell_type": "code",
      "execution_count": null,
      "metadata": {
        "id": "3oS-LuQx_cGA"
      },
      "outputs": [],
      "source": [
        "# configuração para não exibir os warnings\n",
        "import warnings\n",
        "warnings.filterwarnings(\"ignore\")\n",
        "\n",
        "# Imports necessários\n",
        "import pandas as pd\n",
        "import numpy as np\n",
        "import missingno as ms # para tratamento de missings\n",
        "import matplotlib.pyplot as plt\n",
        "from pandas.plotting import scatter_matrix\n",
        "from imblearn.over_sampling import SMOTE\n",
        "from sklearn.preprocessing import LabelEncoder\n",
        "from sklearn.preprocessing import StandardScaler\n",
        "from sklearn.preprocessing import MinMaxScaler\n",
        "from sklearn.model_selection import train_test_split\n",
        "from sklearn.model_selection import KFold\n",
        "from sklearn.model_selection import StratifiedKFold\n",
        "from sklearn.model_selection import cross_val_score\n",
        "from sklearn.model_selection import GridSearchCV\n",
        "from sklearn.metrics import accuracy_score\n",
        "from sklearn.pipeline import Pipeline\n",
        "from sklearn.linear_model import LogisticRegression\n",
        "from sklearn.tree import DecisionTreeClassifier\n",
        "from sklearn.neighbors import KNeighborsClassifier\n",
        "from sklearn.naive_bayes import GaussianNB\n",
        "from sklearn.svm import SVC\n",
        "from sklearn.ensemble import BaggingClassifier\n",
        "from sklearn.ensemble import RandomForestClassifier\n",
        "from sklearn.ensemble import ExtraTreesClassifier\n",
        "from sklearn.ensemble import VotingClassifier\n",
        "from sklearn.ensemble import AdaBoostClassifier\n",
        "from sklearn.ensemble import GradientBoostingClassifier\n",
        "from sklearn.feature_selection import SelectKBest # para a Seleção Univariada\n",
        "from sklearn.feature_selection import f_classif # para o teste ANOVA da Seleção Univariada\n",
        "from sklearn.feature_selection import RFE # para a Eliminação Recursiva de Atributo\n",
        "from sklearn.ensemble import ExtraTreesClassifier\n",
        "from sklearn.preprocessing import StandardScaler, MinMaxScaler\n",
        "from sklearn.pipeline import Pipeline\n",
        "from sklearn.model_selection import RandomizedSearchCV\n",
        "from sklearn.metrics import confusion_matrix, classification_report\n",
        "from sklearn.metrics import ConfusionMatrixDisplay\n",
        "from scipy.stats import randint, uniform\n"
      ]
    },
    {
      "cell_type": "markdown",
      "metadata": {
        "id": "gjwtvUSAu6Lv"
      },
      "source": [
        "### Carregando o Dataset"
      ]
    },
    {
      "cell_type": "code",
      "execution_count": null,
      "metadata": {
        "id": "YHy1bVNH_cGC"
      },
      "outputs": [],
      "source": [
        "#Carga do dataset\n",
        "df = pd.read_csv(\"https://liessin.com.br/mvp/dataset.csv\")"
      ]
    },
    {
      "cell_type": "markdown",
      "metadata": {
        "id": "qnSyPU-Pv2x2"
      },
      "source": [
        "### Breve análise e visualização dos dados"
      ]
    },
    {
      "cell_type": "code",
      "execution_count": null,
      "metadata": {
        "colab": {
          "base_uri": "https://localhost:8080/",
          "height": 539
        },
        "id": "Y2WqLG6N_vId",
        "outputId": "b38e418e-860a-4967-9008-8a6168692cab"
      },
      "outputs": [
        {
          "data": {
            "text/html": [
              "\n",
              "\n",
              "  <div id=\"df-653189e1-1574-4605-a6f4-e5bedc8a57be\">\n",
              "    <div class=\"colab-df-container\">\n",
              "      <div>\n",
              "<style scoped>\n",
              "    .dataframe tbody tr th:only-of-type {\n",
              "        vertical-align: middle;\n",
              "    }\n",
              "\n",
              "    .dataframe tbody tr th {\n",
              "        vertical-align: top;\n",
              "    }\n",
              "\n",
              "    .dataframe thead th {\n",
              "        text-align: right;\n",
              "    }\n",
              "</style>\n",
              "<table border=\"1\" class=\"dataframe\">\n",
              "  <thead>\n",
              "    <tr style=\"text-align: right;\">\n",
              "      <th></th>\n",
              "      <th>Marital status</th>\n",
              "      <th>Application mode</th>\n",
              "      <th>Application order</th>\n",
              "      <th>Course</th>\n",
              "      <th>Daytime/evening attendance</th>\n",
              "      <th>Previous qualification</th>\n",
              "      <th>Nacionality</th>\n",
              "      <th>Mother's qualification</th>\n",
              "      <th>Father's qualification</th>\n",
              "      <th>Mother's occupation</th>\n",
              "      <th>...</th>\n",
              "      <th>Curricular units 2nd sem (credited)</th>\n",
              "      <th>Curricular units 2nd sem (enrolled)</th>\n",
              "      <th>Curricular units 2nd sem (evaluations)</th>\n",
              "      <th>Curricular units 2nd sem (approved)</th>\n",
              "      <th>Curricular units 2nd sem (grade)</th>\n",
              "      <th>Curricular units 2nd sem (without evaluations)</th>\n",
              "      <th>Unemployment rate</th>\n",
              "      <th>Inflation rate</th>\n",
              "      <th>GDP</th>\n",
              "      <th>Target</th>\n",
              "    </tr>\n",
              "  </thead>\n",
              "  <tbody>\n",
              "    <tr>\n",
              "      <th>0</th>\n",
              "      <td>1</td>\n",
              "      <td>8</td>\n",
              "      <td>5</td>\n",
              "      <td>2</td>\n",
              "      <td>1</td>\n",
              "      <td>1</td>\n",
              "      <td>1</td>\n",
              "      <td>13</td>\n",
              "      <td>10</td>\n",
              "      <td>6</td>\n",
              "      <td>...</td>\n",
              "      <td>0</td>\n",
              "      <td>0</td>\n",
              "      <td>0</td>\n",
              "      <td>0</td>\n",
              "      <td>0.000000</td>\n",
              "      <td>0</td>\n",
              "      <td>10.8</td>\n",
              "      <td>1.4</td>\n",
              "      <td>1.74</td>\n",
              "      <td>Dropout</td>\n",
              "    </tr>\n",
              "    <tr>\n",
              "      <th>1</th>\n",
              "      <td>1</td>\n",
              "      <td>6</td>\n",
              "      <td>1</td>\n",
              "      <td>11</td>\n",
              "      <td>1</td>\n",
              "      <td>1</td>\n",
              "      <td>1</td>\n",
              "      <td>1</td>\n",
              "      <td>3</td>\n",
              "      <td>4</td>\n",
              "      <td>...</td>\n",
              "      <td>0</td>\n",
              "      <td>6</td>\n",
              "      <td>6</td>\n",
              "      <td>6</td>\n",
              "      <td>13.666667</td>\n",
              "      <td>0</td>\n",
              "      <td>13.9</td>\n",
              "      <td>-0.3</td>\n",
              "      <td>0.79</td>\n",
              "      <td>Graduate</td>\n",
              "    </tr>\n",
              "    <tr>\n",
              "      <th>2</th>\n",
              "      <td>1</td>\n",
              "      <td>1</td>\n",
              "      <td>5</td>\n",
              "      <td>5</td>\n",
              "      <td>1</td>\n",
              "      <td>1</td>\n",
              "      <td>1</td>\n",
              "      <td>22</td>\n",
              "      <td>27</td>\n",
              "      <td>10</td>\n",
              "      <td>...</td>\n",
              "      <td>0</td>\n",
              "      <td>6</td>\n",
              "      <td>0</td>\n",
              "      <td>0</td>\n",
              "      <td>0.000000</td>\n",
              "      <td>0</td>\n",
              "      <td>10.8</td>\n",
              "      <td>1.4</td>\n",
              "      <td>1.74</td>\n",
              "      <td>Dropout</td>\n",
              "    </tr>\n",
              "    <tr>\n",
              "      <th>3</th>\n",
              "      <td>1</td>\n",
              "      <td>8</td>\n",
              "      <td>2</td>\n",
              "      <td>15</td>\n",
              "      <td>1</td>\n",
              "      <td>1</td>\n",
              "      <td>1</td>\n",
              "      <td>23</td>\n",
              "      <td>27</td>\n",
              "      <td>6</td>\n",
              "      <td>...</td>\n",
              "      <td>0</td>\n",
              "      <td>6</td>\n",
              "      <td>10</td>\n",
              "      <td>5</td>\n",
              "      <td>12.400000</td>\n",
              "      <td>0</td>\n",
              "      <td>9.4</td>\n",
              "      <td>-0.8</td>\n",
              "      <td>-3.12</td>\n",
              "      <td>Graduate</td>\n",
              "    </tr>\n",
              "    <tr>\n",
              "      <th>4</th>\n",
              "      <td>2</td>\n",
              "      <td>12</td>\n",
              "      <td>1</td>\n",
              "      <td>3</td>\n",
              "      <td>0</td>\n",
              "      <td>1</td>\n",
              "      <td>1</td>\n",
              "      <td>22</td>\n",
              "      <td>28</td>\n",
              "      <td>10</td>\n",
              "      <td>...</td>\n",
              "      <td>0</td>\n",
              "      <td>6</td>\n",
              "      <td>6</td>\n",
              "      <td>6</td>\n",
              "      <td>13.000000</td>\n",
              "      <td>0</td>\n",
              "      <td>13.9</td>\n",
              "      <td>-0.3</td>\n",
              "      <td>0.79</td>\n",
              "      <td>Graduate</td>\n",
              "    </tr>\n",
              "    <tr>\n",
              "      <th>...</th>\n",
              "      <td>...</td>\n",
              "      <td>...</td>\n",
              "      <td>...</td>\n",
              "      <td>...</td>\n",
              "      <td>...</td>\n",
              "      <td>...</td>\n",
              "      <td>...</td>\n",
              "      <td>...</td>\n",
              "      <td>...</td>\n",
              "      <td>...</td>\n",
              "      <td>...</td>\n",
              "      <td>...</td>\n",
              "      <td>...</td>\n",
              "      <td>...</td>\n",
              "      <td>...</td>\n",
              "      <td>...</td>\n",
              "      <td>...</td>\n",
              "      <td>...</td>\n",
              "      <td>...</td>\n",
              "      <td>...</td>\n",
              "      <td>...</td>\n",
              "    </tr>\n",
              "    <tr>\n",
              "      <th>4419</th>\n",
              "      <td>1</td>\n",
              "      <td>1</td>\n",
              "      <td>6</td>\n",
              "      <td>15</td>\n",
              "      <td>1</td>\n",
              "      <td>1</td>\n",
              "      <td>1</td>\n",
              "      <td>1</td>\n",
              "      <td>1</td>\n",
              "      <td>6</td>\n",
              "      <td>...</td>\n",
              "      <td>0</td>\n",
              "      <td>6</td>\n",
              "      <td>8</td>\n",
              "      <td>5</td>\n",
              "      <td>12.666667</td>\n",
              "      <td>0</td>\n",
              "      <td>15.5</td>\n",
              "      <td>2.8</td>\n",
              "      <td>-4.06</td>\n",
              "      <td>Graduate</td>\n",
              "    </tr>\n",
              "    <tr>\n",
              "      <th>4420</th>\n",
              "      <td>1</td>\n",
              "      <td>1</td>\n",
              "      <td>2</td>\n",
              "      <td>15</td>\n",
              "      <td>1</td>\n",
              "      <td>1</td>\n",
              "      <td>19</td>\n",
              "      <td>1</td>\n",
              "      <td>1</td>\n",
              "      <td>10</td>\n",
              "      <td>...</td>\n",
              "      <td>0</td>\n",
              "      <td>6</td>\n",
              "      <td>6</td>\n",
              "      <td>2</td>\n",
              "      <td>11.000000</td>\n",
              "      <td>0</td>\n",
              "      <td>11.1</td>\n",
              "      <td>0.6</td>\n",
              "      <td>2.02</td>\n",
              "      <td>Dropout</td>\n",
              "    </tr>\n",
              "    <tr>\n",
              "      <th>4421</th>\n",
              "      <td>1</td>\n",
              "      <td>1</td>\n",
              "      <td>1</td>\n",
              "      <td>12</td>\n",
              "      <td>1</td>\n",
              "      <td>1</td>\n",
              "      <td>1</td>\n",
              "      <td>22</td>\n",
              "      <td>27</td>\n",
              "      <td>10</td>\n",
              "      <td>...</td>\n",
              "      <td>0</td>\n",
              "      <td>8</td>\n",
              "      <td>9</td>\n",
              "      <td>1</td>\n",
              "      <td>13.500000</td>\n",
              "      <td>0</td>\n",
              "      <td>13.9</td>\n",
              "      <td>-0.3</td>\n",
              "      <td>0.79</td>\n",
              "      <td>Dropout</td>\n",
              "    </tr>\n",
              "    <tr>\n",
              "      <th>4422</th>\n",
              "      <td>1</td>\n",
              "      <td>1</td>\n",
              "      <td>1</td>\n",
              "      <td>9</td>\n",
              "      <td>1</td>\n",
              "      <td>1</td>\n",
              "      <td>1</td>\n",
              "      <td>22</td>\n",
              "      <td>27</td>\n",
              "      <td>8</td>\n",
              "      <td>...</td>\n",
              "      <td>0</td>\n",
              "      <td>5</td>\n",
              "      <td>6</td>\n",
              "      <td>5</td>\n",
              "      <td>12.000000</td>\n",
              "      <td>0</td>\n",
              "      <td>9.4</td>\n",
              "      <td>-0.8</td>\n",
              "      <td>-3.12</td>\n",
              "      <td>Graduate</td>\n",
              "    </tr>\n",
              "    <tr>\n",
              "      <th>4423</th>\n",
              "      <td>1</td>\n",
              "      <td>5</td>\n",
              "      <td>1</td>\n",
              "      <td>15</td>\n",
              "      <td>1</td>\n",
              "      <td>1</td>\n",
              "      <td>9</td>\n",
              "      <td>23</td>\n",
              "      <td>27</td>\n",
              "      <td>6</td>\n",
              "      <td>...</td>\n",
              "      <td>0</td>\n",
              "      <td>6</td>\n",
              "      <td>6</td>\n",
              "      <td>6</td>\n",
              "      <td>13.000000</td>\n",
              "      <td>0</td>\n",
              "      <td>12.7</td>\n",
              "      <td>3.7</td>\n",
              "      <td>-1.70</td>\n",
              "      <td>Graduate</td>\n",
              "    </tr>\n",
              "  </tbody>\n",
              "</table>\n",
              "<p>4424 rows × 35 columns</p>\n",
              "</div>\n",
              "      <button class=\"colab-df-convert\" onclick=\"convertToInteractive('df-653189e1-1574-4605-a6f4-e5bedc8a57be')\"\n",
              "              title=\"Convert this dataframe to an interactive table.\"\n",
              "              style=\"display:none;\">\n",
              "\n",
              "  <svg xmlns=\"http://www.w3.org/2000/svg\" height=\"24px\"viewBox=\"0 0 24 24\"\n",
              "       width=\"24px\">\n",
              "    <path d=\"M0 0h24v24H0V0z\" fill=\"none\"/>\n",
              "    <path d=\"M18.56 5.44l.94 2.06.94-2.06 2.06-.94-2.06-.94-.94-2.06-.94 2.06-2.06.94zm-11 1L8.5 8.5l.94-2.06 2.06-.94-2.06-.94L8.5 2.5l-.94 2.06-2.06.94zm10 10l.94 2.06.94-2.06 2.06-.94-2.06-.94-.94-2.06-.94 2.06-2.06.94z\"/><path d=\"M17.41 7.96l-1.37-1.37c-.4-.4-.92-.59-1.43-.59-.52 0-1.04.2-1.43.59L10.3 9.45l-7.72 7.72c-.78.78-.78 2.05 0 2.83L4 21.41c.39.39.9.59 1.41.59.51 0 1.02-.2 1.41-.59l7.78-7.78 2.81-2.81c.8-.78.8-2.07 0-2.86zM5.41 20L4 18.59l7.72-7.72 1.47 1.35L5.41 20z\"/>\n",
              "  </svg>\n",
              "      </button>\n",
              "\n",
              "\n",
              "\n",
              "    <div id=\"df-eda7f4f4-a217-4ccb-86c9-64c81c9aead7\">\n",
              "      <button class=\"colab-df-quickchart\" onclick=\"quickchart('df-eda7f4f4-a217-4ccb-86c9-64c81c9aead7')\"\n",
              "              title=\"Suggest charts.\"\n",
              "              style=\"display:none;\">\n",
              "\n",
              "<svg xmlns=\"http://www.w3.org/2000/svg\" height=\"24px\"viewBox=\"0 0 24 24\"\n",
              "     width=\"24px\">\n",
              "    <g>\n",
              "        <path d=\"M19 3H5c-1.1 0-2 .9-2 2v14c0 1.1.9 2 2 2h14c1.1 0 2-.9 2-2V5c0-1.1-.9-2-2-2zM9 17H7v-7h2v7zm4 0h-2V7h2v10zm4 0h-2v-4h2v4z\"/>\n",
              "    </g>\n",
              "</svg>\n",
              "      </button>\n",
              "    </div>\n",
              "\n",
              "<style>\n",
              "  .colab-df-quickchart {\n",
              "    background-color: #E8F0FE;\n",
              "    border: none;\n",
              "    border-radius: 50%;\n",
              "    cursor: pointer;\n",
              "    display: none;\n",
              "    fill: #1967D2;\n",
              "    height: 32px;\n",
              "    padding: 0 0 0 0;\n",
              "    width: 32px;\n",
              "  }\n",
              "\n",
              "  .colab-df-quickchart:hover {\n",
              "    background-color: #E2EBFA;\n",
              "    box-shadow: 0px 1px 2px rgba(60, 64, 67, 0.3), 0px 1px 3px 1px rgba(60, 64, 67, 0.15);\n",
              "    fill: #174EA6;\n",
              "  }\n",
              "\n",
              "  [theme=dark] .colab-df-quickchart {\n",
              "    background-color: #3B4455;\n",
              "    fill: #D2E3FC;\n",
              "  }\n",
              "\n",
              "  [theme=dark] .colab-df-quickchart:hover {\n",
              "    background-color: #434B5C;\n",
              "    box-shadow: 0px 1px 3px 1px rgba(0, 0, 0, 0.15);\n",
              "    filter: drop-shadow(0px 1px 2px rgba(0, 0, 0, 0.3));\n",
              "    fill: #FFFFFF;\n",
              "  }\n",
              "</style>\n",
              "\n",
              "    <script>\n",
              "      async function quickchart(key) {\n",
              "        const containerElement = document.querySelector('#' + key);\n",
              "        const charts = await google.colab.kernel.invokeFunction(\n",
              "            'suggestCharts', [key], {});\n",
              "      }\n",
              "    </script>\n",
              "\n",
              "      <script>\n",
              "\n",
              "function displayQuickchartButton(domScope) {\n",
              "  let quickchartButtonEl =\n",
              "    domScope.querySelector('#df-eda7f4f4-a217-4ccb-86c9-64c81c9aead7 button.colab-df-quickchart');\n",
              "  quickchartButtonEl.style.display =\n",
              "    google.colab.kernel.accessAllowed ? 'block' : 'none';\n",
              "}\n",
              "\n",
              "        displayQuickchartButton(document);\n",
              "      </script>\n",
              "      <style>\n",
              "    .colab-df-container {\n",
              "      display:flex;\n",
              "      flex-wrap:wrap;\n",
              "      gap: 12px;\n",
              "    }\n",
              "\n",
              "    .colab-df-convert {\n",
              "      background-color: #E8F0FE;\n",
              "      border: none;\n",
              "      border-radius: 50%;\n",
              "      cursor: pointer;\n",
              "      display: none;\n",
              "      fill: #1967D2;\n",
              "      height: 32px;\n",
              "      padding: 0 0 0 0;\n",
              "      width: 32px;\n",
              "    }\n",
              "\n",
              "    .colab-df-convert:hover {\n",
              "      background-color: #E2EBFA;\n",
              "      box-shadow: 0px 1px 2px rgba(60, 64, 67, 0.3), 0px 1px 3px 1px rgba(60, 64, 67, 0.15);\n",
              "      fill: #174EA6;\n",
              "    }\n",
              "\n",
              "    [theme=dark] .colab-df-convert {\n",
              "      background-color: #3B4455;\n",
              "      fill: #D2E3FC;\n",
              "    }\n",
              "\n",
              "    [theme=dark] .colab-df-convert:hover {\n",
              "      background-color: #434B5C;\n",
              "      box-shadow: 0px 1px 3px 1px rgba(0, 0, 0, 0.15);\n",
              "      filter: drop-shadow(0px 1px 2px rgba(0, 0, 0, 0.3));\n",
              "      fill: #FFFFFF;\n",
              "    }\n",
              "  </style>\n",
              "\n",
              "      <script>\n",
              "        const buttonEl =\n",
              "          document.querySelector('#df-653189e1-1574-4605-a6f4-e5bedc8a57be button.colab-df-convert');\n",
              "        buttonEl.style.display =\n",
              "          google.colab.kernel.accessAllowed ? 'block' : 'none';\n",
              "\n",
              "        async function convertToInteractive(key) {\n",
              "          const element = document.querySelector('#df-653189e1-1574-4605-a6f4-e5bedc8a57be');\n",
              "          const dataTable =\n",
              "            await google.colab.kernel.invokeFunction('convertToInteractive',\n",
              "                                                     [key], {});\n",
              "          if (!dataTable) return;\n",
              "\n",
              "          const docLinkHtml = 'Like what you see? Visit the ' +\n",
              "            '<a target=\"_blank\" href=https://colab.research.google.com/notebooks/data_table.ipynb>data table notebook</a>'\n",
              "            + ' to learn more about interactive tables.';\n",
              "          element.innerHTML = '';\n",
              "          dataTable['output_type'] = 'display_data';\n",
              "          await google.colab.output.renderOutput(dataTable, element);\n",
              "          const docLink = document.createElement('div');\n",
              "          docLink.innerHTML = docLinkHtml;\n",
              "          element.appendChild(docLink);\n",
              "        }\n",
              "      </script>\n",
              "    </div>\n",
              "  </div>\n"
            ],
            "text/plain": [
              "      Marital status  Application mode  Application order  Course  \\\n",
              "0                  1                 8                  5       2   \n",
              "1                  1                 6                  1      11   \n",
              "2                  1                 1                  5       5   \n",
              "3                  1                 8                  2      15   \n",
              "4                  2                12                  1       3   \n",
              "...              ...               ...                ...     ...   \n",
              "4419               1                 1                  6      15   \n",
              "4420               1                 1                  2      15   \n",
              "4421               1                 1                  1      12   \n",
              "4422               1                 1                  1       9   \n",
              "4423               1                 5                  1      15   \n",
              "\n",
              "      Daytime/evening attendance  Previous qualification  Nacionality  \\\n",
              "0                              1                       1            1   \n",
              "1                              1                       1            1   \n",
              "2                              1                       1            1   \n",
              "3                              1                       1            1   \n",
              "4                              0                       1            1   \n",
              "...                          ...                     ...          ...   \n",
              "4419                           1                       1            1   \n",
              "4420                           1                       1           19   \n",
              "4421                           1                       1            1   \n",
              "4422                           1                       1            1   \n",
              "4423                           1                       1            9   \n",
              "\n",
              "      Mother's qualification  Father's qualification  Mother's occupation  \\\n",
              "0                         13                      10                    6   \n",
              "1                          1                       3                    4   \n",
              "2                         22                      27                   10   \n",
              "3                         23                      27                    6   \n",
              "4                         22                      28                   10   \n",
              "...                      ...                     ...                  ...   \n",
              "4419                       1                       1                    6   \n",
              "4420                       1                       1                   10   \n",
              "4421                      22                      27                   10   \n",
              "4422                      22                      27                    8   \n",
              "4423                      23                      27                    6   \n",
              "\n",
              "      ...  Curricular units 2nd sem (credited)  \\\n",
              "0     ...                                    0   \n",
              "1     ...                                    0   \n",
              "2     ...                                    0   \n",
              "3     ...                                    0   \n",
              "4     ...                                    0   \n",
              "...   ...                                  ...   \n",
              "4419  ...                                    0   \n",
              "4420  ...                                    0   \n",
              "4421  ...                                    0   \n",
              "4422  ...                                    0   \n",
              "4423  ...                                    0   \n",
              "\n",
              "      Curricular units 2nd sem (enrolled)  \\\n",
              "0                                       0   \n",
              "1                                       6   \n",
              "2                                       6   \n",
              "3                                       6   \n",
              "4                                       6   \n",
              "...                                   ...   \n",
              "4419                                    6   \n",
              "4420                                    6   \n",
              "4421                                    8   \n",
              "4422                                    5   \n",
              "4423                                    6   \n",
              "\n",
              "      Curricular units 2nd sem (evaluations)  \\\n",
              "0                                          0   \n",
              "1                                          6   \n",
              "2                                          0   \n",
              "3                                         10   \n",
              "4                                          6   \n",
              "...                                      ...   \n",
              "4419                                       8   \n",
              "4420                                       6   \n",
              "4421                                       9   \n",
              "4422                                       6   \n",
              "4423                                       6   \n",
              "\n",
              "      Curricular units 2nd sem (approved)  Curricular units 2nd sem (grade)  \\\n",
              "0                                       0                          0.000000   \n",
              "1                                       6                         13.666667   \n",
              "2                                       0                          0.000000   \n",
              "3                                       5                         12.400000   \n",
              "4                                       6                         13.000000   \n",
              "...                                   ...                               ...   \n",
              "4419                                    5                         12.666667   \n",
              "4420                                    2                         11.000000   \n",
              "4421                                    1                         13.500000   \n",
              "4422                                    5                         12.000000   \n",
              "4423                                    6                         13.000000   \n",
              "\n",
              "      Curricular units 2nd sem (without evaluations)  Unemployment rate  \\\n",
              "0                                                  0               10.8   \n",
              "1                                                  0               13.9   \n",
              "2                                                  0               10.8   \n",
              "3                                                  0                9.4   \n",
              "4                                                  0               13.9   \n",
              "...                                              ...                ...   \n",
              "4419                                               0               15.5   \n",
              "4420                                               0               11.1   \n",
              "4421                                               0               13.9   \n",
              "4422                                               0                9.4   \n",
              "4423                                               0               12.7   \n",
              "\n",
              "      Inflation rate   GDP    Target  \n",
              "0                1.4  1.74   Dropout  \n",
              "1               -0.3  0.79  Graduate  \n",
              "2                1.4  1.74   Dropout  \n",
              "3               -0.8 -3.12  Graduate  \n",
              "4               -0.3  0.79  Graduate  \n",
              "...              ...   ...       ...  \n",
              "4419             2.8 -4.06  Graduate  \n",
              "4420             0.6  2.02   Dropout  \n",
              "4421            -0.3  0.79   Dropout  \n",
              "4422            -0.8 -3.12  Graduate  \n",
              "4423             3.7 -1.70  Graduate  \n",
              "\n",
              "[4424 rows x 35 columns]"
            ]
          },
          "metadata": {},
          "output_type": "display_data"
        }
      ],
      "source": [
        "#mostrando as 5 primeiras e as 5 ultimas linhas do dataset\n",
        "display(df)"
      ]
    },
    {
      "cell_type": "code",
      "execution_count": null,
      "metadata": {
        "colab": {
          "base_uri": "https://localhost:8080/"
        },
        "id": "o0rZxJjWwXf4",
        "outputId": "a12ad33c-b6ee-42e5-95c3-59ee361ae395"
      },
      "outputs": [
        {
          "name": "stdout",
          "output_type": "stream",
          "text": [
            "<class 'pandas.core.frame.DataFrame'>\n",
            "RangeIndex: 4424 entries, 0 to 4423\n",
            "Data columns (total 35 columns):\n",
            " #   Column                                          Non-Null Count  Dtype  \n",
            "---  ------                                          --------------  -----  \n",
            " 0   Marital status                                  4424 non-null   int64  \n",
            " 1   Application mode                                4424 non-null   int64  \n",
            " 2   Application order                               4424 non-null   int64  \n",
            " 3   Course                                          4424 non-null   int64  \n",
            " 4   Daytime/evening attendance                      4424 non-null   int64  \n",
            " 5   Previous qualification                          4424 non-null   int64  \n",
            " 6   Nacionality                                     4424 non-null   int64  \n",
            " 7   Mother's qualification                          4424 non-null   int64  \n",
            " 8   Father's qualification                          4424 non-null   int64  \n",
            " 9   Mother's occupation                             4424 non-null   int64  \n",
            " 10  Father's occupation                             4424 non-null   int64  \n",
            " 11  Displaced                                       4424 non-null   int64  \n",
            " 12  Educational special needs                       4424 non-null   int64  \n",
            " 13  Debtor                                          4424 non-null   int64  \n",
            " 14  Tuition fees up to date                         4424 non-null   int64  \n",
            " 15  Gender                                          4424 non-null   int64  \n",
            " 16  Scholarship holder                              4424 non-null   int64  \n",
            " 17  Age at enrollment                               4424 non-null   int64  \n",
            " 18  International                                   4424 non-null   int64  \n",
            " 19  Curricular units 1st sem (credited)             4424 non-null   int64  \n",
            " 20  Curricular units 1st sem (enrolled)             4424 non-null   int64  \n",
            " 21  Curricular units 1st sem (evaluations)          4424 non-null   int64  \n",
            " 22  Curricular units 1st sem (approved)             4424 non-null   int64  \n",
            " 23  Curricular units 1st sem (grade)                4424 non-null   float64\n",
            " 24  Curricular units 1st sem (without evaluations)  4424 non-null   int64  \n",
            " 25  Curricular units 2nd sem (credited)             4424 non-null   int64  \n",
            " 26  Curricular units 2nd sem (enrolled)             4424 non-null   int64  \n",
            " 27  Curricular units 2nd sem (evaluations)          4424 non-null   int64  \n",
            " 28  Curricular units 2nd sem (approved)             4424 non-null   int64  \n",
            " 29  Curricular units 2nd sem (grade)                4424 non-null   float64\n",
            " 30  Curricular units 2nd sem (without evaluations)  4424 non-null   int64  \n",
            " 31  Unemployment rate                               4424 non-null   float64\n",
            " 32  Inflation rate                                  4424 non-null   float64\n",
            " 33  GDP                                             4424 non-null   float64\n",
            " 34  Target                                          4424 non-null   object \n",
            "dtypes: float64(5), int64(29), object(1)\n",
            "memory usage: 1.2+ MB\n",
            "None\n"
          ]
        }
      ],
      "source": [
        "# Verificando as informação e tamanho do dataset\n",
        "df.shape\n",
        "print(df.info())"
      ]
    },
    {
      "cell_type": "code",
      "execution_count": null,
      "metadata": {
        "colab": {
          "base_uri": "https://localhost:8080/"
        },
        "id": "5Z_ERyajx-p_",
        "outputId": "e0913ef1-a85b-41ed-e82e-4645061020f3"
      },
      "outputs": [
        {
          "name": "stdout",
          "output_type": "stream",
          "text": [
            "Marital status                                    0\n",
            "Application mode                                  0\n",
            "Application order                                 0\n",
            "Course                                            0\n",
            "Daytime/evening attendance                        0\n",
            "Previous qualification                            0\n",
            "Nacionality                                       0\n",
            "Mother's qualification                            0\n",
            "Father's qualification                            0\n",
            "Mother's occupation                               0\n",
            "Father's occupation                               0\n",
            "Displaced                                         0\n",
            "Educational special needs                         0\n",
            "Debtor                                            0\n",
            "Tuition fees up to date                           0\n",
            "Gender                                            0\n",
            "Scholarship holder                                0\n",
            "Age at enrollment                                 0\n",
            "International                                     0\n",
            "Curricular units 1st sem (credited)               0\n",
            "Curricular units 1st sem (enrolled)               0\n",
            "Curricular units 1st sem (evaluations)            0\n",
            "Curricular units 1st sem (approved)               0\n",
            "Curricular units 1st sem (grade)                  0\n",
            "Curricular units 1st sem (without evaluations)    0\n",
            "Curricular units 2nd sem (credited)               0\n",
            "Curricular units 2nd sem (enrolled)               0\n",
            "Curricular units 2nd sem (evaluations)            0\n",
            "Curricular units 2nd sem (approved)               0\n",
            "Curricular units 2nd sem (grade)                  0\n",
            "Curricular units 2nd sem (without evaluations)    0\n",
            "Unemployment rate                                 0\n",
            "Inflation rate                                    0\n",
            "GDP                                               0\n",
            "Target                                            0\n",
            "dtype: int64\n"
          ]
        }
      ],
      "source": [
        "# Verificar valores NaN\n",
        "print(df.isna().sum())"
      ]
    },
    {
      "cell_type": "markdown",
      "metadata": {
        "id": "9739xMklxuaC"
      },
      "source": [
        "### Visualizando as classes"
      ]
    },
    {
      "cell_type": "code",
      "execution_count": null,
      "metadata": {
        "colab": {
          "base_uri": "https://localhost:8080/",
          "height": 428
        },
        "id": "dGrjUTKVxOj1",
        "outputId": "18ac7b9b-7607-449e-92c9-7cd0614e31e9"
      },
      "outputs": [
        {
          "data": {
            "image/png": "[encoded data removed]",
            "text/plain": [
              "<Figure size 640x480 with 1 Axes>"
            ]
          },
          "metadata": {},
          "output_type": "display_data"
        }
      ],
      "source": [
        "#Percentual de estudanetes graduados vs abandonados vs inscritos\n",
        "st_summary = df['Target'].value_counts()\n",
        "\n",
        "plt.pie(st_summary, labels=st_summary.index, autopct='%1.1f%%')\n",
        "plt.title('Percentual de estudanetes graduados vs abandonados vs inscritos')\n",
        "plt.show()"
      ]
    },
    {
      "cell_type": "markdown",
      "metadata": {
        "id": "iPabAFyUTW0K"
      },
      "source": [
        "Notamos as classes desbalanceadas, vamos fazer toda a preparação, processamento e treinamento do modelo com os dados desbalanceados de dados e antes do balanceamento."
      ]
    },
    {
      "cell_type": "markdown",
      "metadata": {
        "id": "XjdSQVC_zu_u"
      },
      "source": [
        "### Preparação dos dados"
      ]
    },
    {
      "cell_type": "markdown",
      "metadata": {
        "id": "sp7u_iZSyevW"
      },
      "source": [
        "Os atributos que trabalharemos estão todos categorizados, não sendo necessário essa etapa. Abaixo separamos os conjuntos de dados em treino e teste, holdout com estratificação, utilizando a metrica de acurácia."
      ]
    },
    {
      "cell_type": "code",
      "execution_count": null,
      "metadata": {
        "id": "u6D-mKGo5sAI"
      },
      "outputs": [],
      "source": [
        "#Preparaçao do dados\n",
        "test_size = 0.20 # tamanho do conjunto de teste\n",
        "seed = 7 # semente aleatória\n",
        "\n",
        "# Separação em conjuntos de treino e teste\n",
        "array = df.values\n",
        "X = array[:,0:34]\n",
        "y = array[:,34]\n",
        "X_train, X_test, y_train, y_test = train_test_split(X, y,\n",
        "    test_size=test_size, shuffle=True, random_state=seed, stratify=y) # holdout com estratificação\n",
        "\n",
        "\n",
        "# Parâmetros e partições da validação cruzada\n",
        "scoring = 'accuracy'\n",
        "num_particoes = 10\n",
        "kfold = StratifiedKFold(n_splits=num_particoes, shuffle=True, random_state=seed) # validação cruzada com estratificação"
      ]
    },
    {
      "cell_type": "markdown",
      "metadata": {
        "id": "Vljjm7_781Al"
      },
      "source": [
        "### Modelagem e Treinamento"
      ]
    },
    {
      "cell_type": "markdown",
      "metadata": {
        "id": "Nos740XX9HJO"
      },
      "source": [
        "#### Criação e avaliação de modelos: linha base\n",
        "\n",
        "Vamos rodar alguns algoritimos de machine learning para verificar qual o melhor para criar o modelomais adequado."
      ]
    },
    {
      "cell_type": "code",
      "execution_count": null,
      "metadata": {
        "colab": {
          "base_uri": "https://localhost:8080/",
          "height": 935
        },
        "id": "KaKKBJi69Nec",
        "outputId": "6b4ad12e-be20-4dfd-8b2e-4e1509f8193a"
      },
      "outputs": [
        {
          "name": "stdout",
          "output_type": "stream",
          "text": [
            "LR: 0.764060 (0.013158)\n",
            "KNN: 0.672223 (0.014699)\n",
            "CART: 0.681272 (0.017665)\n",
            "NB: 0.686070 (0.014245)\n",
            "SVM: 0.735518 (0.014642)\n",
            "Bagging: 0.768863 (0.017569)\n",
            "RF: 0.768574 (0.013996)\n",
            "ET: 0.767729 (0.017008)\n",
            "Ada: 0.758966 (0.014058)\n",
            "GB: 0.775922 (0.012693)\n",
            "Voting: 0.759539 (0.012035)\n"
          ]
        },
        {
          "data": {
            "image/png": "[encoded data removed]",
            "text/plain": [
              "<Figure size 1500x1000 with 1 Axes>"
            ]
          },
          "metadata": {},
          "output_type": "display_data"
        }
      ],
      "source": [
        "np.random.seed(7) # definindo uma semente global\n",
        "\n",
        "# Lista que armazenará os modelos\n",
        "models = []\n",
        "\n",
        "# Criando os modelos e adicionando-os na lista de modelos\n",
        "models.append(('LR', LogisticRegression(max_iter=200)))\n",
        "models.append(('KNN', KNeighborsClassifier()))\n",
        "models.append(('CART', DecisionTreeClassifier()))\n",
        "models.append(('NB', GaussianNB()))\n",
        "models.append(('SVM', SVC()))\n",
        "\n",
        "# Definindo os parâmetros do classificador base para o BaggingClassifier\n",
        "base = DecisionTreeClassifier()\n",
        "num_trees = 100\n",
        "max_features = 3\n",
        "\n",
        "# Criando os modelos para o VotingClassifier\n",
        "bases = []\n",
        "model1 = LogisticRegression(max_iter=200)\n",
        "bases.append(('logistic', model1))\n",
        "model2 = DecisionTreeClassifier()\n",
        "bases.append(('cart', model2))\n",
        "model3 = SVC()\n",
        "bases.append(('svm', model3))\n",
        "\n",
        "# Criando os ensembles e adicionando-os na lista de modelos\n",
        "models.append(('Bagging', BaggingClassifier(base_estimator=base, n_estimators=num_trees)))\n",
        "models.append(('RF', RandomForestClassifier(n_estimators=num_trees, max_features=max_features)))\n",
        "models.append(('ET', ExtraTreesClassifier(n_estimators=num_trees, max_features=max_features)))\n",
        "models.append(('Ada', AdaBoostClassifier(n_estimators=num_trees)))\n",
        "models.append(('GB', GradientBoostingClassifier(n_estimators=num_trees)))\n",
        "models.append(('Voting', VotingClassifier(bases)))\n",
        "\n",
        "# Listas para armazenar os resultados\n",
        "results = []\n",
        "names = []\n",
        "\n",
        "# Avaliação dos modelos\n",
        "for name, model in models:\n",
        "    cv_results = cross_val_score(model, X_train, y_train, cv=kfold, scoring=scoring)\n",
        "    results.append(cv_results)\n",
        "    names.append(name)\n",
        "    msg = \"%s: %f (%f)\" % (name, cv_results.mean(), cv_results.std())\n",
        "    print(msg)\n",
        "\n",
        "# Boxplot de comparação dos modelos\n",
        "fig = plt.figure(figsize=(15,10))\n",
        "fig.suptitle('Comparação dos Modelos')\n",
        "ax = fig.add_subplot(111)\n",
        "plt.boxplot(results)\n",
        "ax.set_xticklabels(names)\n",
        "plt.show()"
      ]
    },
    {
      "cell_type": "markdown",
      "metadata": {
        "id": "UAC1KifL-vQq"
      },
      "source": [
        "Nesse resultado, o classificador que obteve a maior acurácia média foi novamente o Gradient Boosting (GB), com uma acurácia média de 0,775922. O Bagging também obteve uma acurácia média alta de 0,768863.\n",
        "\n",
        "Os demais classificadores tiveram acurácias médias um pouco mais baixas, variando entre 0,764060 (Regressão Logística - LR) e 0,759539 (Voting).\n",
        "\n",
        "Os valores entre parênteses representam os desvios padrão correspondentes à acurácia média de cada classificador. Eles indicam a variabilidade ou incerteza nos resultados.\n",
        "\n",
        "Portanto, com base nesses resultados, o Gradient Boosting (GB) e o Bagging se destacaram como os classificadores com melhor desempenho em termos de acurácia média.\n",
        "Vamos aplicar a normalização e a padronização para notar se existe alguma melhora no modelo."
      ]
    },
    {
      "cell_type": "code",
      "execution_count": null,
      "metadata": {
        "colab": {
          "base_uri": "https://localhost:8080/",
          "height": 894
        },
        "id": "63fNDy5_E2aW",
        "outputId": "cc1b72a2-9c4e-4922-d284-9b1185a7f63a"
      },
      "outputs": [
        {
          "name": "stdout",
          "output_type": "stream",
          "text": [
            "LR-orig: 0.764 (0.013)\n",
            "KNN-orig: 0.672 (0.015)\n",
            "CART-orig: 0.681 (0.018)\n",
            "NB-orig: 0.686 (0.014)\n",
            "SVM-orig: 0.736 (0.015)\n",
            "Bag-orig: 0.769 (0.018)\n",
            "RF-orig: 0.769 (0.014)\n",
            "ET-orig: 0.768 (0.017)\n",
            "Ada-orig: 0.759 (0.014)\n",
            "GB-orig: 0.776 (0.013)\n",
            "Vot-orig: 0.760 (0.012)\n",
            "LR-padr: 0.765 (0.012)\n",
            "KNN-padr: 0.701 (0.018)\n",
            "CART-padr: 0.678 (0.018)\n",
            "NB-padr: 0.686 (0.014)\n",
            "SVM-padr: 0.763 (0.014)\n",
            "Bag-padr: 0.765 (0.020)\n",
            "RF-padr: 0.765 (0.015)\n",
            "ET-padr: 0.768 (0.014)\n",
            "Ada-padr: 0.759 (0.014)\n",
            "GB-padr: 0.776 (0.013)\n",
            "Vot-padr: 0.768 (0.010)\n",
            "LR-norm: 0.760 (0.008)\n",
            "KNN-norm: 0.670 (0.017)\n",
            "CART-norm: 0.682 (0.024)\n",
            "NB-norm: 0.686 (0.014)\n",
            "SVM-norm: 0.755 (0.013)\n",
            "Bag-norm: 0.766 (0.012)\n",
            "RF-norm: 0.769 (0.014)\n",
            "ET-norm: 0.766 (0.014)\n",
            "Ada-norm: 0.759 (0.014)\n",
            "GB-norm: 0.775 (0.013)\n",
            "Vot-norm: 0.762 (0.013)\n"
          ]
        },
        {
          "data": {
            "image/png": "[encoded data removed]",
            "text/plain": [
              "<Figure size 2500x600 with 1 Axes>"
            ]
          },
          "metadata": {},
          "output_type": "display_data"
        }
      ],
      "source": [
        "np.random.seed(7) # definindo uma semente global para este bloco\n",
        "\n",
        "# Listas para armazenar os armazenar os pipelines e os resultados para todas as visões do dataset\n",
        "pipelines = []\n",
        "results = []\n",
        "names = []\n",
        "\n",
        "\n",
        "# Criando os elementos do pipeline\n",
        "\n",
        "# Algoritmos que serão utilizados\n",
        "reg_log = ('LR', LogisticRegression(max_iter=200))\n",
        "knn = ('KNN', KNeighborsClassifier())\n",
        "cart = ('CART', DecisionTreeClassifier())\n",
        "naive_bayes = ('NB', GaussianNB())\n",
        "svm = ('SVM', SVC())\n",
        "bagging = ('Bag', BaggingClassifier(base_estimator=base, n_estimators=num_trees))\n",
        "random_forest = ('RF', RandomForestClassifier(n_estimators=num_trees, max_features=max_features))\n",
        "extra_trees = ('ET', ExtraTreesClassifier(n_estimators=num_trees, max_features=max_features))\n",
        "adaboost = ('Ada', AdaBoostClassifier(n_estimators=num_trees))\n",
        "gradient_boosting = ('GB', GradientBoostingClassifier(n_estimators=num_trees))\n",
        "voting = ('Voting', VotingClassifier(bases))\n",
        "\n",
        "# Transformações que serão utilizadas\n",
        "standard_scaler = ('StandardScaler', StandardScaler())\n",
        "min_max_scaler = ('MinMaxScaler', MinMaxScaler())\n",
        "\n",
        "\n",
        "# Montando os pipelines\n",
        "\n",
        "# Dataset original\n",
        "pipelines.append(('LR-orig', Pipeline([reg_log])))\n",
        "pipelines.append(('KNN-orig', Pipeline([knn])))\n",
        "pipelines.append(('CART-orig', Pipeline([cart])))\n",
        "pipelines.append(('NB-orig', Pipeline([naive_bayes])))\n",
        "pipelines.append(('SVM-orig', Pipeline([svm])))\n",
        "pipelines.append(('Bag-orig', Pipeline([bagging])))\n",
        "pipelines.append(('RF-orig', Pipeline([random_forest])))\n",
        "pipelines.append(('ET-orig', Pipeline([extra_trees])))\n",
        "pipelines.append(('Ada-orig', Pipeline([adaboost])))\n",
        "pipelines.append(('GB-orig', Pipeline([gradient_boosting])))\n",
        "pipelines.append(('Vot-orig', Pipeline([voting])))\n",
        "\n",
        "# Dataset Padronizado\n",
        "pipelines.append(('LR-padr', Pipeline([standard_scaler, reg_log])))\n",
        "pipelines.append(('KNN-padr', Pipeline([standard_scaler, knn])))\n",
        "pipelines.append(('CART-padr', Pipeline([standard_scaler, cart])))\n",
        "pipelines.append(('NB-padr', Pipeline([standard_scaler, naive_bayes])))\n",
        "pipelines.append(('SVM-padr', Pipeline([standard_scaler, svm])))\n",
        "pipelines.append(('Bag-padr', Pipeline([standard_scaler, bagging])))\n",
        "pipelines.append(('RF-padr', Pipeline([standard_scaler, random_forest])))\n",
        "pipelines.append(('ET-padr', Pipeline([standard_scaler, extra_trees])))\n",
        "pipelines.append(('Ada-padr', Pipeline([standard_scaler, adaboost])))\n",
        "pipelines.append(('GB-padr', Pipeline([standard_scaler, gradient_boosting])))\n",
        "pipelines.append(('Vot-padr', Pipeline([standard_scaler, voting])))\n",
        "\n",
        "# Dataset Normalizado\n",
        "pipelines.append(('LR-norm', Pipeline([min_max_scaler, reg_log])))\n",
        "pipelines.append(('KNN-norm', Pipeline([min_max_scaler, knn])))\n",
        "pipelines.append(('CART-norm', Pipeline([min_max_scaler, cart])))\n",
        "pipelines.append(('NB-norm', Pipeline([min_max_scaler, naive_bayes])))\n",
        "pipelines.append(('SVM-norm', Pipeline([min_max_scaler, svm])))\n",
        "pipelines.append(('Bag-norm', Pipeline([min_max_scaler, bagging])))\n",
        "pipelines.append(('RF-norm', Pipeline([min_max_scaler, random_forest])))\n",
        "pipelines.append(('ET-norm', Pipeline([min_max_scaler, extra_trees])))\n",
        "pipelines.append(('Ada-norm', Pipeline([min_max_scaler, adaboost])))\n",
        "pipelines.append(('GB-norm', Pipeline([min_max_scaler, gradient_boosting])))\n",
        "pipelines.append(('Vot-norm', Pipeline([min_max_scaler, voting])))\n",
        "\n",
        "# Executando os pipelines\n",
        "for name, model in pipelines:\n",
        "    cv_results = cross_val_score(model, X_train, y_train, cv=kfold, scoring=scoring)\n",
        "    results.append(cv_results)\n",
        "    names.append(name)\n",
        "    msg = \"%s: %.3f (%.3f)\" % (name, cv_results.mean(), cv_results.std()) # formatando para 3 casas decimais\n",
        "    print(msg)\n",
        "\n",
        "# Boxplot de comparação dos modelos\n",
        "fig = plt.figure(figsize=(25,6))\n",
        "fig.suptitle('Comparação dos Modelos - Dataset  padronizado e normalizado')\n",
        "ax = fig.add_subplot(111)\n",
        "plt.boxplot(results)\n",
        "ax.set_xticklabels(names, rotation=90)\n",
        "plt.show()"
      ]
    },
    {
      "cell_type": "markdown",
      "metadata": {
        "id": "1Gsn7mTMHBsg"
      },
      "source": [
        "Nesse resultado, é fornecida a acurácia média e o desvio padrão para diferentes classificadores em três conjuntos de dados diferentes: \"orig\" (dados originais), \"padr\" (dados padronizados) e \"norm\" (dados normatizados).\n",
        "\n",
        "A acurácia média representa a proporção média de instâncias classificadas corretamente pelos classificadores, variando de 0 a 1, onde 1 representa uma precisão perfeita. O desvio padrão indica a dispersão dos resultados em relação à média, fornecendo uma medida de variabilidade ou incerteza em torno da acurácia média.\n",
        "\n",
        "Comparando os resultados nos diferentes conjuntos de dados, podemos observar o seguinte:\n",
        "\n",
        "Nos dados originais (\"orig\"), o classificador que obteve a maior acurácia média foi o Gradient Boosting (GB-orig) com 0,776, seguido pelo Bagging (Bag-orig) com 0,769.\n",
        "\n",
        "Nos dados padronizados (\"padr\"), o Gradient Boosting (GB-padr) e o Bagging (Bag-padr) também obtiveram as maiores acurácias médias, ambas com 0,776.\n",
        "\n",
        "Nos dados normatizados (\"norm\"), o Gradient Boosting (GB-norm) novamente obteve a maior acurácia média com 0,775, seguido pelo Random Forest (RF-norm) com 0,769.\n",
        "\n",
        "Em geral, o Gradient Boosting (GB) e o Bagging são consistentemente classificadores que apresentaram bom desempenho em todas as três formas de dados (originais, padronizados e normatizados).\n",
        "\n",
        "Vamos trabalhar os Hiperparametros para podermos tentar um melhor desempenho do modelo. Para efeito de estudo no MVP vou utilizar somente o hiperparametro no algoritimo ExtraTree e  Gradrient-Boosting, o segundo  utilizado o RandomizedSearchCV por questões de tempo."
      ]
    },
    {
      "cell_type": "markdown",
      "metadata": {
        "id": "UtqXWciZLEjo"
      },
      "source": [
        "#### Otimização dos hiperparâmetros\n",
        "\n",
        "Executabdo o os hiperparâmetros no algoritimo ExtraTree"
      ]
    },
    {
      "cell_type": "code",
      "execution_count": null,
      "metadata": {
        "id": "tRlJpYC0Z_eV"
      },
      "outputs": [],
      "source": [
        "np.random.seed(7)  # definindo uma semente global para este bloco\n",
        "\n",
        "# Definindo os componentes do pipeline\n",
        "extra_trees = ('ExtraTrees', ExtraTreesClassifier())\n",
        "standard_scaler = ('StandardScaler', StandardScaler())\n",
        "min_max_scaler = ('MinMaxScaler', MinMaxScaler())\n",
        "\n",
        "pipelines = []\n",
        "pipelines.append(('extra-trees-orig', Pipeline(steps=[extra_trees])))\n",
        "pipelines.append(('extra-trees-padr', Pipeline(steps=[standard_scaler, extra_trees])))\n",
        "pipelines.append(('extra-trees-norm', Pipeline(steps=[min_max_scaler, extra_trees])))\n",
        "\n",
        "param_dist = {\n",
        "    'ExtraTrees__n_estimators': randint(50, 200),  # Limita os valores entre 50 e 200\n",
        "    'ExtraTrees__max_features': ['auto', 'sqrt', 'log2'],\n",
        "    'ExtraTrees__max_depth': [3, 5, 7, None],\n",
        "    'ExtraTrees__min_samples_split': randint(2, 10)\n",
        "}\n",
        "\n",
        "# Prepara e executa o RandomizedSearchCV\n",
        "best_estimator = None\n",
        "best_score = float('-inf')\n",
        "\n",
        "for name, model in pipelines:\n",
        "    random_search = RandomizedSearchCV(estimator=model, param_distributions=param_dist, n_iter=10, scoring=scoring, cv=kfold)\n",
        "    random_search.fit(X_train, y_train)\n",
        "\n",
        "    if random_search.best_score_ > best_score:\n",
        "        best_score = random_search.best_score_\n",
        "        best_estimator = random_search.best_estimator_\n",
        "        best_estimator_name = name\n",
        "print('Melhor estimador:',best_estimator_name)\n",
        "# Aplica o melhor estimador aos dados de teste\n",
        "y_pred = best_estimator.predict(X_test)\n",
        "\n",
        "# Obtém os rótulos reais antes da categorização\n",
        "y_labels = np.unique(y)\n",
        "\n",
        "# Calcula a matriz de confusão\n",
        "confusion_mat = confusion_matrix(y_test, y_pred)\n",
        "\n",
        "# Crie o objeto ConfusionMatrixDisplay\n",
        "cm_display = ConfusionMatrixDisplay(confusion_matrix=confusion_mat, display_labels=y_labels)\n",
        "\n",
        "# Plote a matriz de confusão\n",
        "plt.figure(figsize=(8, 6))\n",
        "cm_display.plot(cmap=\"Blues\")\n",
        "plt.xlabel(\"Predito\")\n",
        "plt.ylabel(\"Real\")\n",
        "plt.title(\"Matriz de Confusão\")\n",
        "plt.show()\n",
        "\n",
        "# Outras métricas além da acurácia\n",
        "classification_rep = classification_report(y_test, y_pred)\n",
        "print(\"Relatório de Classificação:\")\n",
        "print(classification_rep)\n"
      ]
    },
    {
      "cell_type": "markdown",
      "metadata": {
        "id": "zKRXv5tW1-HV"
      },
      "source": [
        "Com base nesse relatório de classificação, podemos observar as métricas de avaliação para cada classe individualmente, bem como uma visão geral do desempenho médio do modelo em todas as classes.\n",
        "A acurácia geral do modelo é de 0,79, o que significa que aproximadamente 79% das instâncias foram classificadas corretamente. A média não ponderada das métricas (precision, recall, f1-score) para todas as classes é de aproximadamente 0,78, enquanto a média ponderada é de aproximadamente 0,79. Isso indica que o desempenho médio do modelo é relativamente bom. Porem é necessário observar a matriz de confusão, o numero de acertos da classe Enrolled é baixo em relação as outras classes, isso se dá pelo dataset estar desbalanceado."
      ]
    },
    {
      "cell_type": "markdown",
      "metadata": {
        "id": "buQ0brYb1Hhp"
      },
      "source": [
        "Vamos otimizar os hiperparâmetros com GradientBooster usnando RandomisedSerchV por questões de tempo, no estudo anterior rodei com o GridSearchCV demorou muito tempo para rodar inviabilizando o MVP."
      ]
    },
    {
      "cell_type": "code",
      "execution_count": null,
      "metadata": {
        "colab": {
          "base_uri": "https://localhost:8080/",
          "height": 680
        },
        "id": "xx_BL3Z9lTyJ",
        "outputId": "d586d691-d869-4fe4-d204-8b7785c4dc1d"
      },
      "outputs": [
        {
          "data": {
            "text/plain": [
              "<Figure size 800x600 with 0 Axes>"
            ]
          },
          "metadata": {},
          "output_type": "display_data"
        },
        {
          "data": {
            "image/png": "[encoded data removed]",
            "text/plain": [
              "<Figure size 640x480 with 2 Axes>"
            ]
          },
          "metadata": {},
          "output_type": "display_data"
        },
        {
          "name": "stdout",
          "output_type": "stream",
          "text": [
            "Relatório de Classificação:\n",
            "              precision    recall  f1-score   support\n",
            "\n",
            "     Dropout       0.81      0.76      0.79       284\n",
            "    Enrolled       0.65      0.45      0.53       159\n",
            "    Graduate       0.80      0.93      0.86       442\n",
            "\n",
            "    accuracy                           0.79       885\n",
            "   macro avg       0.76      0.71      0.72       885\n",
            "weighted avg       0.78      0.79      0.78       885\n",
            "\n"
          ]
        }
      ],
      "source": [
        "\n",
        "np.random.seed(7)  # definindo uma semente global para este bloco\n",
        "\n",
        "# Definindo os componentes do pipeline\n",
        "gradient_boost = ('GradientBoost', GradientBoostingClassifier())\n",
        "standard_scaler = ('StandardScaler', StandardScaler())\n",
        "min_max_scaler = ('MinMaxScaler', MinMaxScaler())\n",
        "\n",
        "pipelines = []\n",
        "pipelines.append(('gradient-boost-orig', Pipeline(steps=[gradient_boost])))\n",
        "pipelines.append(('gradient-boost-padr', Pipeline(steps=[standard_scaler, gradient_boost])))\n",
        "pipelines.append(('gradient-boost-norm', Pipeline(steps=[min_max_scaler, gradient_boost])))\n",
        "\n",
        "param_dist = {\n",
        "    'GradientBoost__n_estimators': randint(50, 200),  # Limita os valores entre 50 e 200\n",
        "    'GradientBoost__learning_rate': uniform(0.001, 0.1),  # Faixa de valores entre 0.001 e 0.1\n",
        "    'GradientBoost__max_depth': [3, 5, 7]\n",
        "}\n",
        "\n",
        "# Prepara e executa o RandomizedSearchCV\n",
        "best_estimator = None\n",
        "best_score = float('-inf')\n",
        "\n",
        "for name, model in pipelines:\n",
        "    random_search = RandomizedSearchCV(estimator=model, param_distributions=param_dist, n_iter=10, scoring=scoring, cv=kfold)\n",
        "    random_search.fit(X_train, y_train)\n",
        "\n",
        "    if random_search.best_score_ > best_score:\n",
        "        best_score = random_search.best_score_\n",
        "        best_estimator = random_search.best_estimator_\n",
        "        best_estimator_name = name\n",
        "\n",
        "# Aplica o melhor estimador aos dados de teste\n",
        "y_pred = best_estimator.predict(X_test)\n",
        "\n",
        "# Obtém os rótulos reais antes da categorização\n",
        "y_labels = np.unique(y)\n",
        "\n",
        "# Calcula a matriz de confusão\n",
        "confusion_mat = confusion_matrix(y_test, y_pred)\n",
        "\n",
        "# Crie o objeto ConfusionMatrixDisplay\n",
        "cm_display = ConfusionMatrixDisplay(confusion_matrix=confusion_mat, display_labels=y_labels)\n",
        "\n",
        "# Plote a matriz de confusão\n",
        "plt.figure(figsize=(8, 6))\n",
        "cm_display.plot(cmap=\"Blues\")\n",
        "plt.xlabel(\"Predito\")\n",
        "plt.ylabel(\"Real\")\n",
        "plt.title(\"Matriz de Confusão\")\n",
        "plt.show()\n",
        "\n",
        "# Outras métricas além da acurácia\n",
        "classification_rep = classification_report(y_test, y_pred)\n",
        "print(\"Relatório de Classificação:\")\n",
        "print(classification_rep)\n",
        "\n"
      ]
    },
    {
      "cell_type": "markdown",
      "metadata": {
        "id": "nSwUAJ_6CYVe"
      },
      "source": [
        " A acurácia geral do modelo é de 0,79, o que significa que aproximadamente 79% das instâncias foram classificadas corretamente. Não alterou nada da aplicação do modelo com hiperparametro anterior. Vamos fazer o balanceadmento do dataset e repettir todo o estudo."
      ]
    },
    {
      "cell_type": "markdown",
      "metadata": {
        "id": "flvl5wW6URC2"
      },
      "source": [
        "#### Balanceamento do dataset e treinamento e testes."
      ]
    },
    {
      "cell_type": "code",
      "execution_count": null,
      "metadata": {
        "colab": {
          "base_uri": "https://localhost:8080/",
          "height": 507
        },
        "id": "FeAtyRpVUrWZ",
        "outputId": "ac5d9792-2cca-46d7-bb96-6e39b0d4595a"
      },
      "outputs": [
        {
          "data": {
            "image/png": "[encoded data removed]",
            "text/plain": [
              "<Figure size 1000x500 with 2 Axes>"
            ]
          },
          "metadata": {},
          "output_type": "display_data"
        }
      ],
      "source": [
        "\n",
        "# Separando as features (X) e o alvo (y)\n",
        "X = df.drop('Target', axis=1)\n",
        "y = df['Target']\n",
        "\n",
        "\n",
        "# Aplicando o balanceamento SMOTE\n",
        "smote = SMOTE(random_state=0)\n",
        "X_resampled, y_resampled = smote.fit_resample(X, y)\n",
        "\n",
        "# Contando o número de instâncias em cada classe antes do balanceamento\n",
        "classes_before = y.value_counts()\n",
        "\n",
        "\n",
        "# Contando o número de instâncias em cada classe após o balanceamento\n",
        "classes_after = pd.Series(y_resampled).value_counts()\n",
        "\n",
        "\n",
        "# Plotando o gráfico\n",
        "plt.figure(figsize=(10, 5))\n",
        "plt.subplot(1, 2, 1)\n",
        "plt.bar(classes_before.index, classes_before.values)\n",
        "plt.title('Distribuição das classes (antes do balanceamento)')\n",
        "plt.xlabel('Classes')\n",
        "plt.ylabel('Número de instâncias')\n",
        "\n",
        "plt.subplot(1, 2, 2)\n",
        "plt.bar(classes_after.index, classes_after.values)\n",
        "plt.title('Distribuição das classes (após o balanceamento)')\n",
        "plt.xlabel('Classes')\n",
        "plt.ylabel('Número de instâncias')\n",
        "\n",
        "plt.tight_layout()\n",
        "plt.show()\n"
      ]
    },
    {
      "cell_type": "markdown",
      "metadata": {
        "id": "QXvNZsbZrv5K"
      },
      "source": [
        "#### Fazendo o Holdout com os dados balanceados"
      ]
    },
    {
      "cell_type": "code",
      "execution_count": null,
      "metadata": {
        "id": "9HZEahGErOUB"
      },
      "outputs": [],
      "source": [
        "#Preparaçao do dados\n",
        "test_size = 0.20 # tamanho do conjunto de teste\n",
        "seed = 7 # semente aleatória\n",
        "\n",
        "# Separação em conjuntos de treino e teste\n",
        "array = df.values\n",
        "X = array[:,0:34]\n",
        "y = array[:,34]\n",
        "\n",
        "\n",
        " #X_resampled e y_resampled são os dados balanceados\n",
        "\n",
        "# Dividindo os dados balanceados em conjuntos de treinamento e teste\n",
        "X_train, X_test, y_train, y_test = train_test_split(X_resampled, y_resampled, test_size=0.2, random_state=0)\n",
        "\n",
        "# Agora você pode usar X_train e y_train para treinar o modelo\n",
        "# e X_test e y_test para avaliar o desempenho do modelo\n",
        "# Parâmetros e partições da validação cruzada\n",
        "scoring = 'accuracy'\n",
        "num_particoes = 10\n",
        "kfold = StratifiedKFold(n_splits=num_particoes, shuffle=True, random_state=seed) # validação cruzada com estratificação"
      ]
    },
    {
      "cell_type": "markdown",
      "metadata": {
        "id": "t_0f237NsJHy"
      },
      "source": [
        "Rodando os algoritimos de ML com os dados balanceados"
      ]
    },
    {
      "cell_type": "code",
      "execution_count": null,
      "metadata": {
        "colab": {
          "base_uri": "https://localhost:8080/",
          "height": 1000
        },
        "id": "DfPtNW4IsJbG",
        "outputId": "d6a2a69f-c5b3-4a58-833f-dec6570d5b12"
      },
      "outputs": [
        {
          "name": "stdout",
          "output_type": "stream",
          "text": [
            "LR: 0.755891 (0.014555)\n",
            "KNN: 0.724202 (0.017307)\n",
            "CART: 0.727034 (0.010975)\n",
            "NB: 0.663835 (0.008710)\n",
            "SVM: 0.708548 (0.015298)\n",
            "Bagging: 0.818148 (0.011293)\n",
            "RF: 0.831352 (0.011240)\n",
            "ET: 0.842107 (0.008850)\n",
            "Ada: 0.755325 (0.015918)\n",
            "GB: 0.788530 (0.011683)\n",
            "Voting: 0.760422 (0.014664)\n"
          ]
        },
        {
          "data": {
            "image/png": "[encoded data removed]",
            "text/plain": [
              "<Figure size 1500x1000 with 1 Axes>"
            ]
          },
          "metadata": {},
          "output_type": "display_data"
        }
      ],
      "source": [
        "np.random.seed(7) # definindo uma semente global\n",
        "\n",
        "# Lista que armazenará os modelos\n",
        "models = []\n",
        "\n",
        "# Criando os modelos e adicionando-os na lista de modelos\n",
        "models.append(('LR', LogisticRegression(max_iter=200)))\n",
        "models.append(('KNN', KNeighborsClassifier()))\n",
        "models.append(('CART', DecisionTreeClassifier()))\n",
        "models.append(('NB', GaussianNB()))\n",
        "models.append(('SVM', SVC()))\n",
        "\n",
        "# Definindo os parâmetros do classificador base para o BaggingClassifier\n",
        "base = DecisionTreeClassifier()\n",
        "num_trees = 100\n",
        "max_features = 3\n",
        "\n",
        "# Criando os modelos para o VotingClassifier\n",
        "bases = []\n",
        "model1 = LogisticRegression(max_iter=200)\n",
        "bases.append(('logistic', model1))\n",
        "model2 = DecisionTreeClassifier()\n",
        "bases.append(('cart', model2))\n",
        "model3 = SVC()\n",
        "bases.append(('svm', model3))\n",
        "\n",
        "# Criando os ensembles e adicionando-os na lista de modelos\n",
        "models.append(('Bagging', BaggingClassifier(base_estimator=base, n_estimators=num_trees)))\n",
        "models.append(('RF', RandomForestClassifier(n_estimators=num_trees, max_features=max_features)))\n",
        "models.append(('ET', ExtraTreesClassifier(n_estimators=num_trees, max_features=max_features)))\n",
        "models.append(('Ada', AdaBoostClassifier(n_estimators=num_trees)))\n",
        "models.append(('GB', GradientBoostingClassifier(n_estimators=num_trees)))\n",
        "models.append(('Voting', VotingClassifier(bases)))\n",
        "\n",
        "# Listas para armazenar os resultados\n",
        "results = []\n",
        "names = []\n",
        "\n",
        "# Avaliação dos modelos\n",
        "for name, model in models:\n",
        "    cv_results = cross_val_score(model, X_train, y_train, cv=kfold, scoring=scoring)\n",
        "    results.append(cv_results)\n",
        "    names.append(name)\n",
        "    msg = \"%s: %f (%f)\" % (name, cv_results.mean(), cv_results.std())\n",
        "    print(msg)\n",
        "\n",
        "# Boxplot de comparação dos modelos\n",
        "fig = plt.figure(figsize=(15,10))\n",
        "fig.suptitle('Comparação dos Modelos')\n",
        "ax = fig.add_subplot(111)\n",
        "plt.boxplot(results)\n",
        "ax.set_xticklabels(names)\n",
        "plt.show()"
      ]
    },
    {
      "cell_type": "markdown",
      "metadata": {
        "id": "qGoxGkOV9aEJ"
      },
      "source": [
        "Após rodar com os dados balancedos, com base nessas métricas, pode-se observar que os classificadores Bagging, RF e ET apresentaram as maiores acurácias médias, com valores de 0,818148, 0,831352 e 0,842107, respectivamente. Esses classificadores também exibem desvios padrão relativamente baixos, indicando uma consistência em seus resultados. Vamos aplicar a normalização e a padronização para verificar se temos alguma melhora em comparação com o original."
      ]
    },
    {
      "cell_type": "code",
      "execution_count": null,
      "metadata": {
        "colab": {
          "base_uri": "https://localhost:8080/",
          "height": 1000
        },
        "id": "nxE9U0gbtYPK",
        "outputId": "cc988456-daf2-4334-b08b-54d69a217bed"
      },
      "outputs": [
        {
          "name": "stdout",
          "output_type": "stream",
          "text": [
            "LR-orig: 0.756 (0.015)\n",
            "KNN-orig: 0.724 (0.017)\n",
            "CART-orig: 0.727 (0.011)\n",
            "NB-orig: 0.664 (0.009)\n",
            "SVM-orig: 0.709 (0.015)\n",
            "Bag-orig: 0.818 (0.011)\n",
            "RF-orig: 0.831 (0.011)\n",
            "ET-orig: 0.842 (0.009)\n",
            "Ada-orig: 0.755 (0.016)\n",
            "GB-orig: 0.789 (0.012)\n",
            "Vot-orig: 0.760 (0.015)\n",
            "LR-padr: 0.757 (0.018)\n",
            "KNN-padr: 0.731 (0.011)\n",
            "CART-padr: 0.731 (0.010)\n",
            "NB-padr: 0.664 (0.009)\n",
            "SVM-padr: 0.784 (0.017)\n",
            "Bag-padr: 0.819 (0.011)\n",
            "RF-padr: 0.831 (0.014)\n",
            "ET-padr: 0.843 (0.012)\n",
            "Ada-padr: 0.755 (0.016)\n",
            "GB-padr: 0.788 (0.012)\n",
            "Vot-padr: 0.784 (0.017)\n",
            "LR-norm: 0.749 (0.019)\n",
            "KNN-norm: 0.688 (0.019)\n",
            "CART-norm: 0.727 (0.011)\n",
            "NB-norm: 0.664 (0.009)\n",
            "SVM-norm: 0.758 (0.020)\n",
            "Bag-norm: 0.813 (0.012)\n",
            "RF-norm: 0.827 (0.010)\n",
            "ET-norm: 0.837 (0.009)\n",
            "Ada-norm: 0.755 (0.016)\n",
            "GB-norm: 0.788 (0.012)\n",
            "Vot-norm: 0.767 (0.020)\n"
          ]
        },
        {
          "data": {
            "image/png": "[encoded data removed]",
            "text/plain": [
              "<Figure size 2500x600 with 1 Axes>"
            ]
          },
          "metadata": {},
          "output_type": "display_data"
        }
      ],
      "source": [
        "np.random.seed(7) # definindo uma semente global para este bloco\n",
        "\n",
        "# Listas para armazenar os armazenar os pipelines e os resultados para todas as visões do dataset\n",
        "pipelines = []\n",
        "results = []\n",
        "names = []\n",
        "\n",
        "\n",
        "# Criando os elementos do pipeline\n",
        "\n",
        "# Algoritmos que serão utilizados\n",
        "reg_log = ('LR', LogisticRegression(max_iter=200))\n",
        "knn = ('KNN', KNeighborsClassifier())\n",
        "cart = ('CART', DecisionTreeClassifier())\n",
        "naive_bayes = ('NB', GaussianNB())\n",
        "svm = ('SVM', SVC())\n",
        "bagging = ('Bag', BaggingClassifier(base_estimator=base, n_estimators=num_trees))\n",
        "random_forest = ('RF', RandomForestClassifier(n_estimators=num_trees, max_features=max_features))\n",
        "extra_trees = ('ET', ExtraTreesClassifier(n_estimators=num_trees, max_features=max_features))\n",
        "adaboost = ('Ada', AdaBoostClassifier(n_estimators=num_trees))\n",
        "gradient_boosting = ('GB', GradientBoostingClassifier(n_estimators=num_trees))\n",
        "voting = ('Voting', VotingClassifier(bases))\n",
        "\n",
        "# Transformações que serão utilizadas\n",
        "standard_scaler = ('StandardScaler', StandardScaler())\n",
        "min_max_scaler = ('MinMaxScaler', MinMaxScaler())\n",
        "\n",
        "\n",
        "# Montando os pipelines\n",
        "\n",
        "# Dataset original\n",
        "pipelines.append(('LR-orig', Pipeline([reg_log])))\n",
        "pipelines.append(('KNN-orig', Pipeline([knn])))\n",
        "pipelines.append(('CART-orig', Pipeline([cart])))\n",
        "pipelines.append(('NB-orig', Pipeline([naive_bayes])))\n",
        "pipelines.append(('SVM-orig', Pipeline([svm])))\n",
        "pipelines.append(('Bag-orig', Pipeline([bagging])))\n",
        "pipelines.append(('RF-orig', Pipeline([random_forest])))\n",
        "pipelines.append(('ET-orig', Pipeline([extra_trees])))\n",
        "pipelines.append(('Ada-orig', Pipeline([adaboost])))\n",
        "pipelines.append(('GB-orig', Pipeline([gradient_boosting])))\n",
        "pipelines.append(('Vot-orig', Pipeline([voting])))\n",
        "\n",
        "# Dataset Padronizado\n",
        "pipelines.append(('LR-padr', Pipeline([standard_scaler, reg_log])))\n",
        "pipelines.append(('KNN-padr', Pipeline([standard_scaler, knn])))\n",
        "pipelines.append(('CART-padr', Pipeline([standard_scaler, cart])))\n",
        "pipelines.append(('NB-padr', Pipeline([standard_scaler, naive_bayes])))\n",
        "pipelines.append(('SVM-padr', Pipeline([standard_scaler, svm])))\n",
        "pipelines.append(('Bag-padr', Pipeline([standard_scaler, bagging])))\n",
        "pipelines.append(('RF-padr', Pipeline([standard_scaler, random_forest])))\n",
        "pipelines.append(('ET-padr', Pipeline([standard_scaler, extra_trees])))\n",
        "pipelines.append(('Ada-padr', Pipeline([standard_scaler, adaboost])))\n",
        "pipelines.append(('GB-padr', Pipeline([standard_scaler, gradient_boosting])))\n",
        "pipelines.append(('Vot-padr', Pipeline([standard_scaler, voting])))\n",
        "\n",
        "# Dataset Normalizado\n",
        "pipelines.append(('LR-norm', Pipeline([min_max_scaler, reg_log])))\n",
        "pipelines.append(('KNN-norm', Pipeline([min_max_scaler, knn])))\n",
        "pipelines.append(('CART-norm', Pipeline([min_max_scaler, cart])))\n",
        "pipelines.append(('NB-norm', Pipeline([min_max_scaler, naive_bayes])))\n",
        "pipelines.append(('SVM-norm', Pipeline([min_max_scaler, svm])))\n",
        "pipelines.append(('Bag-norm', Pipeline([min_max_scaler, bagging])))\n",
        "pipelines.append(('RF-norm', Pipeline([min_max_scaler, random_forest])))\n",
        "pipelines.append(('ET-norm', Pipeline([min_max_scaler, extra_trees])))\n",
        "pipelines.append(('Ada-norm', Pipeline([min_max_scaler, adaboost])))\n",
        "pipelines.append(('GB-norm', Pipeline([min_max_scaler, gradient_boosting])))\n",
        "pipelines.append(('Vot-norm', Pipeline([min_max_scaler, voting])))\n",
        "\n",
        "# Executando os pipelines\n",
        "for name, model in pipelines:\n",
        "    cv_results = cross_val_score(model, X_train, y_train, cv=kfold, scoring=scoring)\n",
        "    results.append(cv_results)\n",
        "    names.append(name)\n",
        "    msg = \"%s: %.3f (%.3f)\" % (name, cv_results.mean(), cv_results.std()) # formatando para 3 casas decimais\n",
        "    print(msg)\n",
        "\n",
        "# Boxplot de comparação dos modelos\n",
        "fig = plt.figure(figsize=(25,6))\n",
        "fig.suptitle('Comparação dos Modelos - Dataset  padronizado e normalizado')\n",
        "ax = fig.add_subplot(111)\n",
        "plt.boxplot(results)\n",
        "ax.set_xticklabels(names, rotation=90)\n",
        "plt.show()"
      ]
    },
    {
      "cell_type": "markdown",
      "metadata": {
        "id": "dyNALRu9-ASh"
      },
      "source": [
        "Nos dados originais (\"orig\"), observamos que o Extra Trees (ET-orig) obteve a maior acurácia média de 0,842, seguido pelo Random Forest (RF-orig) com 0,831 e Gradient Boosting (GB-orig) com 0,789. Esses três classificadores também apresentam desvios padrão relativamente baixos, indicando consistência nos resultados.\n",
        "\n",
        "Nos dados padronizados (\"padr\"), o Extra Trees (ET-padr) também obteve a maior acurácia média de 0,843, seguido pelo Random Forest (RF-padr) com 0,831 e Bagging (Bag-padr) com 0,819. Esses resultados são semelhantes aos obtidos nos dados originais, sugerindo que a padronização dos dados não teve um impacto significativo no desempenho desses classificadores.\n",
        "\n",
        "Nos dados normatizados (\"norm\"), o Extra Trees (ET-norm) novamente obteve a maior acurácia média de 0,837, seguido pelo Random Forest (RF-norm) com 0,827 e Gradient Boosting (GB-norm) com 0,788. Comparando com os dados originais, observamos uma queda marginal no desempenho do Extra Trees e do Random Forest, enquanto o Gradient Boosting se manteve praticamente inalterado.\n",
        "\n",
        "Em geral, o Extra Trees, Random Forest e Gradient Boosting se destacaram como os classificadores com melhor desempenho em diferentes conjuntos de dados (originais, padronizados e normatizados). O desempenho desses classificadores foi consistente em diferentes configurações de dados, o que sugere sua robustez.\n",
        "Vamos aplicar o hiperparametro para esse algoritimo para ver se conseguimos alguma melhora."
      ]
    },
    {
      "cell_type": "code",
      "execution_count": null,
      "metadata": {
        "id": "-_cXwfDe-kRK"
      },
      "outputs": [],
      "source": [
        "#Aplicação de Hiperparametros\n",
        "\n",
        "np.random.seed(7)  # definindo uma semente global para este bloco\n",
        "\n",
        "# Definindo os componentes do pipeline\n",
        "extra_trees = ('ExtraTrees', ExtraTreesClassifier())\n",
        "standard_scaler = ('StandardScaler', StandardScaler())\n",
        "min_max_scaler = ('MinMaxScaler', MinMaxScaler())\n",
        "\n",
        "pipelines = []\n",
        "pipelines.append(('extra-trees-orig', Pipeline(steps=[extra_trees])))\n",
        "pipelines.append(('extra-trees-padr', Pipeline(steps=[standard_scaler, extra_trees])))\n",
        "pipelines.append(('extra-trees-norm', Pipeline(steps=[min_max_scaler, extra_trees])))\n",
        "\n",
        "param_dist = {\n",
        "    'ExtraTrees__n_estimators': randint(50, 200),  # Limita os valores entre 50 e 200\n",
        "    'ExtraTrees__max_features': ['auto', 'sqrt', 'log2'],\n",
        "    'ExtraTrees__max_depth': [3, 5, 7, None],\n",
        "    'ExtraTrees__min_samples_split': randint(2, 10)\n",
        "}\n",
        "\n",
        "# Prepara e executa o RandomizedSearchCV\n",
        "best_estimator = None\n",
        "best_score = float('-inf')\n",
        "\n",
        "for name, model in pipelines:\n",
        "    random_search = RandomizedSearchCV(estimator=model, param_distributions=param_dist, n_iter=10, scoring=scoring, cv=kfold)\n",
        "    random_search.fit(X_train, y_train)\n",
        "\n",
        "    if random_search.best_score_ > best_score:\n",
        "        best_score = random_search.best_score_\n",
        "        best_estimator = random_search.best_estimator_\n",
        "        best_estimator_name = name\n",
        "print('Melhor estimador:',best_estimator_name)\n",
        "# Aplica o melhor estimador aos dados de teste\n",
        "y_pred = best_estimator.predict(X_test)\n",
        "\n",
        "# Obtém os rótulos reais antes da categorização\n",
        "y_labels = np.unique(y)\n",
        "\n",
        "# Calcula a matriz de confusão\n",
        "confusion_mat = confusion_matrix(y_test, y_pred)\n",
        "\n",
        "# Crie o objeto ConfusionMatrixDisplay\n",
        "cm_display = ConfusionMatrixDisplay(confusion_matrix=confusion_mat, display_labels=y_labels)\n",
        "\n",
        "# Plote a matriz de confusão\n",
        "plt.figure(figsize=(8, 6))\n",
        "cm_display.plot(cmap=\"Blues\")\n",
        "plt.xlabel(\"Predito\")\n",
        "plt.ylabel(\"Real\")\n",
        "plt.title(\"Matriz de Confusão\")\n",
        "plt.show()\n",
        "\n",
        "# Outras métricas além da acurácia\n",
        "classification_rep = classification_report(y_test, y_pred)\n",
        "print(\"Relatório de Classificação:\")\n",
        "print(classification_rep)"
      ]
    },
    {
      "cell_type": "markdown",
      "metadata": {
        "id": "wYE0aTvgKMyM"
      },
      "source": [
        "Em geral, o modelo apresenta um bom desempenho com valores de precisão, recall e F1-score elevados para todas as classes com o balanceamento dos dados. A acurácia média e as métricas agregadas também demonstram um desempenho consistente em todas as classes. Portanto, com base nessas métricas, podemos concluir que o modelo teve um bom desempenho na tarefa de classificação dessas três classes. Podemos concluir a necessidade de deixarmos os dados balanceados para o modelo obter melhor resultado."
      ]
    },
    {
      "cell_type": "markdown",
      "metadata": {
        "id": "6qqCHqyFA1yt"
      },
      "source": [
        "####Feature Selection\n",
        "\n",
        "Aplicando Feature Selection para verificar se melhoramos o desempenho do modelo"
      ]
    },
    {
      "cell_type": "code",
      "execution_count": null,
      "metadata": {
        "id": "Is9vT4G-lqHf"
      },
      "outputs": [],
      "source": [
        "from sklearn.feature_selection import SelectFromModel\n",
        "\n",
        "extra_trees = ExtraTreesClassifier()\n",
        "feature_selection = SelectFromModel(extra_trees)\n",
        "\n",
        "pipelines = []\n",
        "pipelines.append(('extra-trees-orig', Pipeline(steps=[('FeatureSelection', feature_selection), ('ExtraTrees', extra_trees)])))\n",
        "pipelines.append(('extra-trees-padr', Pipeline(steps=[('StandardScaler', standard_scaler), ('FeatureSelection', feature_selection), ('ExtraTrees', extra_trees)])))\n",
        "pipelines.append(('extra-trees-norm', Pipeline(steps=[('MinMaxScaler', min_max_scaler), ('FeatureSelection', feature_selection), ('ExtraTrees', extra_trees)])))\n",
        "\n",
        "\n",
        "\n",
        "from sklearn.feature_selection import SelectFromModel\n",
        "\n",
        "# Crie um novo estimador ExtraTreesClassifier\n",
        "extra_trees = ExtraTreesClassifier()\n",
        "\n",
        "# Execute a seleção de características nos dados de treinamento\n",
        "feature_selection = SelectFromModel(extra_trees)\n",
        "X_train_selected = feature_selection.fit_transform(X_train, y_train)\n",
        "\n",
        "# Defina os parâmetros para o RandomizedSearchCV\n",
        "param_dist = {\n",
        "    'n_estimators':randint(50, 200),\n",
        "    'max_features': ['auto', 'sqrt', 'log2'],\n",
        "    'max_depth': [3, 5, 7, None],\n",
        "    'min_samples_split': randint(2, 10)\n",
        "}\n",
        "\n",
        "# Crie um novo estimador ExtraTreesClassifier com os parâmetros otimizados\n",
        "best_estimator = ExtraTreesClassifier()\n",
        "random_search = RandomizedSearchCV(estimator=best_estimator, param_distributions=param_dist, n_iter=10, scoring=scoring, cv=kfold)\n",
        "random_search.fit(X_train_selected, y_train)\n",
        "\n",
        "# Obtenha as melhores características selecionadas\n",
        "best_features = feature_selection.get_support()\n",
        "X_test_selected = X_test.iloc[:, best_features]\n",
        "\n",
        "# Faça a previsão nos dados de teste com as características selecionadas\n",
        "y_pred = random_search.best_estimator_.predict(X_test_selected)\n",
        "\n",
        "# Obtém os rótulos reais antes da categorização\n",
        "y_labels = np.unique(y)\n",
        "\n",
        "# Calcula a matriz de confusão\n",
        "confusion_mat = confusion_matrix(y_test, y_pred)\n",
        "\n",
        "# Crie o objeto ConfusionMatrixDisplay\n",
        "cm_display = ConfusionMatrixDisplay(confusion_matrix=confusion_mat, display_labels=y_labels)\n",
        "\n",
        "# Plote a matriz de confusão\n",
        "plt.figure(figsize=(8, 6))\n",
        "cm_display.plot(cmap=\"Blues\")\n",
        "plt.xlabel(\"Predito\")\n",
        "plt.ylabel(\"Real\")\n",
        "plt.title(\"Matriz de ConfusãO Após o Feature Selection\")\n",
        "plt.show()\n",
        "\n",
        "# Outras métricas além da acurácia\n",
        "classification_rep = classification_report(y_test, y_pred)\n",
        "print(\"Relatório de Classificação:\")\n",
        "print(classification_rep)"
      ]
    },
    {
      "cell_type": "markdown",
      "metadata": {
        "id": "7jEEnfBq8FtP"
      },
      "source": [
        "Ao comparar os resultados antes e depois da aplicação do método de feature selection, observamos que houve algumas mudanças nas métricas de avaliação. A precisão para a classe \"Dropout\" aumentou de 0,90 para 0,91, enquanto a precisão para a classe \"Enrolled\" diminuiu de 0,81 para 0,78. O recall para a classe \"Dropout\" diminuiu de 0,83 para 0,80, enquanto o recall para as classes \"Enrolled\" e \"Graduate\" permaneceram praticamente inalterados. O F1-score para as classes \"Dropout\" e \"Graduate\" permaneceu o mesmo, enquanto o F1-score para a classe \"Enrolled\" diminuiu ligeiramente.\n",
        "\n",
        "Em termos de acurácia geral, houve uma diminuição de 0,01, de 0,85 para 0,84.\n",
        "\n",
        "\n",
        "Portanto, podemos observar que o método de feature selection afetou ligeiramente as métricas de avaliação do modelo, resultando em algumas alterações nas precisões, recalls, F1-scores e acurácia.\n",
        "\n",
        "Abaixo faço um grafico entre a acuracia de teste e treino, podemos dizer que o modelo está apresentando um pequeno grau de overfitting. A diferença entre as duas acurácias não é muito grande, o que indica que o modelo tem um desempenho razoável tanto nos dados de treinamento quanto nos dados de teste."
      ]
    },
    {
      "cell_type": "code",
      "execution_count": null,
      "metadata": {
        "id": "BLzHAzq4GY7K"
      },
      "outputs": [],
      "source": [
        "from sklearn.model_selection import cross_val_score\n",
        "\n",
        "# Lista para armazenar os scores de treinamento e teste\n",
        "train_scores = []\n",
        "test_scores = []\n",
        "\n",
        "# Defina uma lista de valores para o número de estimadores\n",
        "n_estimators = [50, 100, 150, 200]\n",
        "\n",
        "# Itere sobre os valores de n_estimators\n",
        "for n in n_estimators:\n",
        "    # Crie um novo estimador ExtraTreesClassifier com o número de estimadores atual\n",
        "    extra_trees = ExtraTreesClassifier(n_estimators=n)\n",
        "\n",
        "    # Execute a validação cruzada e obtenha os scores de treinamento e teste\n",
        "    train_score = cross_val_score(extra_trees, X_train, y_train, cv=5, scoring='accuracy').mean()\n",
        "    test_score = cross_val_score(extra_trees, X_test, y_test, cv=5, scoring='accuracy').mean()\n",
        "\n",
        "    # Armazene os scores na lista\n",
        "    train_scores.append(train_score)\n",
        "    test_scores.append(test_score)\n",
        "\n",
        "# Plote o gráfico de linha comparando os dados de treinamento e teste\n",
        "plt.plot(n_estimators, train_scores, label='Treino')\n",
        "plt.plot(n_estimators, test_scores, label='Teste')\n",
        "plt.xlabel('Número de Estimadores')\n",
        "plt.ylabel('Acurácia Média')\n",
        "plt.title('Desempenho do Modelo - Treino vs. Teste')\n",
        "plt.legend()\n",
        "plt.show()\n"
      ]
    },
    {
      "cell_type": "markdown",
      "metadata": {
        "id": "SpWG2nHFYCqu"
      },
      "source": [
        "#### Finalização do Modelo"
      ]
    },
    {
      "cell_type": "code",
      "execution_count": null,
      "metadata": {
        "colab": {
          "base_uri": "https://localhost:8080/"
        },
        "id": "uW7Ks7k0YKMf",
        "outputId": "5e1fa924-169e-493d-bfca-33195d6f8704"
      },
      "outputs": [
        {
          "name": "stdout",
          "output_type": "stream",
          "text": [
            "Acurácia do modelo Regressão Logística: 0.7496229260935143\n",
            "Acurácia do modelo Gradient Boost: 0.803921568627451\n",
            "Acurácia do modelo SVC: 0.7933634992458521\n",
            "Melhor modelo salvo com sucesso:  GradientBoostingClassifier()\n"
          ]
        }
      ],
      "source": [
        "from sklearn.metrics import accuracy_score\n",
        "from joblib import dump\n",
        "best_model = None\n",
        "best_accuracy = 0.0\n",
        "\n",
        "# Definir uma lista de tuplas contendo o nome do modelo e o objeto do modelo\n",
        "models = [\n",
        "    ('Regressão Logística', LogisticRegression(max_iter=200)),\n",
        "    ('Gradient Boost', GradientBoostingClassifier()),\n",
        "    ('SVC', SVC())\n",
        "]\n",
        "\n",
        "# Preparar o modelo e avaliá-lo para cada tupla na lista\n",
        "for model_name, model in models:\n",
        "    scaler = StandardScaler().fit(X_train)  # ajuste do scaler com o conjunto de treino\n",
        "    rescaledX = scaler.transform(X_train)  # aplicação da padronização no conjunto de treino\n",
        "    model.fit(rescaledX, y_train)\n",
        "\n",
        "    rescaledTestX = scaler.transform(X_test)  # aplicação da padronização no conjunto de teste\n",
        "    predictions = model.predict(rescaledTestX)\n",
        "    accuracy = accuracy_score(y_test, predictions)\n",
        "\n",
        "    print(f\"Acurácia do modelo {model_name}: {accuracy}\")\n",
        "\n",
        "    # Verificar se a acurácia atual é melhor do que a melhor acurácia anterior\n",
        "    if accuracy > best_accuracy:\n",
        "        best_accuracy = accuracy\n",
        "        best_model = model\n",
        "\n",
        "# Salvar o melhor modelo\n",
        "if best_model is not None:\n",
        "    dump(best_model, 'melhor_modelo.joblib')\n",
        "    print(\"Melhor modelo salvo com sucesso: \", best_model)\n",
        "\n"
      ]
    },
    {
      "cell_type": "markdown",
      "metadata": {
        "id": "2xuZI5YL_pil"
      },
      "source": [
        "### Conclusão\n",
        "\n",
        "Portanto, a conclusão geral é que o modelo Gradient Boosting é uma escolha sólida para esse problema de classificação. Ele apresenta um desempenho equilibrado em termos de acurácia, precisão, revocação e valor F1-Score, o que sugere que é capaz de lidar adequadamente com os dados e fazer previsões confiáveis."
      ]
    },
    {
      "cell_type": "markdown",
      "metadata": {
        "id": "psVfwuP1LXYz"
      },
      "source": [
        "##Parte B"
      ]
    },
    {
      "cell_type": "markdown",
      "metadata": {
        "id": "7nQYT7kVTXkU"
      },
      "source": [
        "### Classificador de imagens binária - Carros VS Caminhonetes (SUV)"
      ]
    },
    {
      "cell_type": "markdown",
      "metadata": {
        "id": "23RGoVi2TrpD"
      },
      "source": [
        "### 1. Definição do Problema"
      ]
    },
    {
      "cell_type": "markdown",
      "metadata": {
        "id": "C8txxRM4UCGB"
      },
      "source": [
        "Utilizei o dataset do repositório do kaggle, sem uma descrição definida. Basicamente um problema de visão computacional para destinguir a imagem se é um carro (car) ou uma SUV (truck). Aplicaremos alumas tecnicas aprendidas no curso para indentificar e classificar a imagem de uma forma acertiva atravé de modelos de machine learning."
      ]
    },
    {
      "cell_type": "markdown",
      "metadata": {
        "id": "XkJut0TEWDgS"
      },
      "source": [
        "### 1. Importando as bibliotecas necessárias para executar o notebook\n",
        "\n"
      ]
    },
    {
      "cell_type": "code",
      "execution_count": null,
      "metadata": {
        "id": "FM86p08BWjzL"
      },
      "outputs": [],
      "source": [
        "from keras.preprocessing.image import ImageDataGenerator\n",
        "from keras import layers\n",
        "from keras import models\n",
        "from keras import optimizers\n",
        "from tensorflow.keras.preprocessing import image\n",
        "import os\n",
        "from sklearn.model_selection import train_test_split\n",
        "import shutil\n",
        "import random\n",
        "import math\n",
        "import numpy as np\n",
        "import zipfile\n",
        "import pandas as pd\n",
        "import matplotlib.image as mpimg\n",
        "import matplotlib.pyplot as plt\n",
        "import matplotlib.image as mpimg\n",
        "from datetime import datetime\n",
        "from tensorflow import keras\n",
        "from sklearn.metrics import confusion_matrix, classification_report\n",
        "import sklearn.metrics as skm\n",
        "import itertools\n",
        "import urllib.request\n",
        "import zipfile\n",
        "from keras.preprocessing.image import ImageDataGenerator\n",
        "from keras import layers\n",
        "from keras import models\n",
        "from keras import optimizers\n",
        "from tensorflow.keras.preprocessing import image\n",
        "import os\n",
        "from sklearn.model_selection import train_test_split\n",
        "import shutil\n",
        "import random\n",
        "import math\n",
        "import numpy as np\n",
        "import zipfile\n",
        "import pandas as pd\n",
        "import matplotlib.image as mpimg\n",
        "import matplotlib.pyplot as plt\n",
        "import matplotlib.image as mpimg\n",
        "from datetime import datetime\n",
        "from tensorflow import keras\n",
        "from sklearn.metrics import confusion_matrix, classification_report\n",
        "import sklearn.metrics as skm\n",
        "import itertools\n",
        "import numpy as np\n",
        "import matplotlib.pyplot as plt\n"
      ]
    },
    {
      "cell_type": "markdown",
      "metadata": {
        "id": "1ybokALgXsIB"
      },
      "source": [
        "#### Utilidades\n",
        "\n",
        "`plot_confusion_matrix` é uma função python que imprime uma matriz de confusão"
      ]
    },
    {
      "cell_type": "code",
      "execution_count": null,
      "metadata": {
        "id": "UjP-l-e1X-hz"
      },
      "outputs": [],
      "source": [
        "def plot_confusion_matrix(cm, classes,\n",
        "                          normalize=False,\n",
        "                          title='Confusion matrix',\n",
        "                          cmap=plt.cm.Blues):\n",
        "    \"\"\"\n",
        "    Esta função imprime e plota a matriz de confusão.\n",
        "    A normalização pode ser aplicada definindo `normalize=True`.\n",
        "    \"\"\"\n",
        "    if normalize:\n",
        "        cm = cm.astype('float') / cm.sum(axis=1)[:, np.newaxis]\n",
        "        print(\"Matriz de confusão normalizada\")\n",
        "    else:\n",
        "        print('Matriz de confusão sem normalização')\n",
        "\n",
        "    plt.imshow(cm, interpolation='nearest', cmap=cmap)\n",
        "    plt.title(title)\n",
        "    plt.colorbar()\n",
        "    tick_marks = np.arange(len(classes))\n",
        "    plt.xticks(tick_marks, classes, rotation=45)\n",
        "    plt.yticks(tick_marks, classes)\n",
        "\n",
        "    fmt = '.2f' if normalize else 'd'\n",
        "    thresh = cm.max() / 2.\n",
        "    for i, j in itertools.product(range(cm.shape[0]), range(cm.shape[1])):\n",
        "        plt.text(j, i, format(cm[i, j], fmt),\n",
        "                 horizontalalignment=\"center\",\n",
        "                 color=\"white\" if cm[i, j] > thresh else \"black\")\n",
        "\n",
        "    plt.tight_layout()\n",
        "    plt.ylabel('Label real')\n",
        "    plt.xlabel('Label predito')"
      ]
    },
    {
      "cell_type": "markdown",
      "metadata": {
        "id": "QRC-zf-NYQHh"
      },
      "source": [
        "### 2. Acessando e tratando os dados que serão a entrada do modelo de deep learning"
      ]
    },
    {
      "cell_type": "code",
      "execution_count": null,
      "metadata": {
        "colab": {
          "base_uri": "https://localhost:8080/"
        },
        "id": "ae6j7TiUYtfl",
        "outputId": "836c1764-cf7b-421e-dc27-b1102f2a4dc4"
      },
      "outputs": [
        {
          "output_type": "stream",
          "name": "stdout",
          "text": [
            "Arquivos descompactados com sucesso!\n"
          ]
        }
      ],
      "source": [
        "#Descompactando os arquivos de imagens\n",
        "url = 'https://liessin.com.br/mvp/sprint2/car-or-truck.zip'\n",
        "nome_arquivo_zip = 'car-or-truck.zip'\n",
        "diretorio_destino = './mvp/'  # Diretório onde os arquivos serão extraídos\n",
        "\n",
        "# Baixa o arquivo ZIP da URL\n",
        "urllib.request.urlretrieve(url, nome_arquivo_zip)\n",
        "\n",
        "# Extrai o conteúdo do arquivo ZIP\n",
        "with zipfile.ZipFile(nome_arquivo_zip, 'r') as zip_ref:\n",
        "    zip_ref.extractall(diretorio_destino)\n",
        "\n",
        "print('Arquivos descompactados com sucesso!')"
      ]
    },
    {
      "cell_type": "markdown",
      "metadata": {
        "id": "vn1YZ7C2Y4c5"
      },
      "source": [
        "Após a descompactação do arquivo faço um processo para renomea-los conforme o nome da pasta."
      ]
    },
    {
      "cell_type": "code",
      "execution_count": null,
      "metadata": {
        "colab": {
          "base_uri": "https://localhost:8080/"
        },
        "id": "EQOLOKfJY3bN",
        "outputId": "1fbc823b-0b7b-4615-959f-294ef6297ded"
      },
      "outputs": [
        {
          "output_type": "stream",
          "name": "stdout",
          "text": [
            "Arquivos renomeados\n"
          ]
        }
      ],
      "source": [
        "#Renomeando as Imagens\n",
        "diretorio_destino = './mvp/'\n",
        "\n",
        "def renomear_imagens(diretorio):\n",
        "    for nome in os.listdir(diretorio):\n",
        "        caminho_origem = os.path.join(diretorio, nome)\n",
        "        if os.path.isfile(caminho_origem) and nome.lower().endswith(('.jpeg', '.jpg')):\n",
        "            nome_pasta = os.path.basename(diretorio)\n",
        "            extensao = nome.split('.')[-1].lower()\n",
        "            sequencial = 1\n",
        "            while True:\n",
        "                sequencial_formatado = str(sequencial).zfill(5)\n",
        "                novo_nome = f\"{nome_pasta}.{sequencial_formatado}.{extensao}\"\n",
        "                caminho_destino = os.path.join(diretorio, novo_nome)\n",
        "                if not os.path.exists(caminho_destino):\n",
        "                    break\n",
        "                sequencial += 1\n",
        "            os.rename(caminho_origem, caminho_destino)\n",
        "            #print(f\"Renomeado: {nome} -> {novo_nome}\")\n",
        "        elif os.path.isdir(caminho_origem):\n",
        "            renomear_imagens(caminho_origem)\n",
        "\n",
        "renomear_imagens(diretorio_destino)\n",
        "print('Arquivos renomeados')\n"
      ]
    },
    {
      "cell_type": "markdown",
      "metadata": {
        "id": "XyzbpdxYas-3"
      },
      "source": [
        "Agara vamos mover todos os arquivos imagem de carros e SUVs para pastas principais train e valid (Treino e validação)"
      ]
    },
    {
      "cell_type": "code",
      "execution_count": null,
      "metadata": {
        "colab": {
          "base_uri": "https://localhost:8080/"
        },
        "id": "BZus_Si4arVV",
        "outputId": "2091a0a3-c55e-4ac4-8a62-cf68fa3e9bea"
      },
      "outputs": [
        {
          "output_type": "stream",
          "name": "stdout",
          "text": [
            "Arquivos movidos para a pasta principal\n"
          ]
        }
      ],
      "source": [
        "#Movendo as imagens de carros e caminhonetes para as pastas de treino e validação\n",
        "import os\n",
        "import shutil\n",
        "#Treino\n",
        "diretorio_origem_car = './mvp/train/Car'\n",
        "diretorio_origem_truck = './mvp/train/Truck'\n",
        "diretorio_destino = './mvp/train'\n",
        "\n",
        "# Mover imagens \"Car\" para o diretório de destino\n",
        "imagens_car = os.listdir(diretorio_origem_car)\n",
        "for imagem in imagens_car:\n",
        "    caminho_origem = os.path.join(diretorio_origem_car, imagem)\n",
        "    caminho_destino = os.path.join(diretorio_destino, imagem)\n",
        "    shutil.move(caminho_origem, caminho_destino)\n",
        "\n",
        "# Mover imagens \"Truck\" para o diretório de destino\n",
        "imagens_truck = os.listdir(diretorio_origem_truck)\n",
        "for imagem in imagens_truck:\n",
        "    caminho_origem = os.path.join(diretorio_origem_truck, imagem)\n",
        "    caminho_destino = os.path.join(diretorio_destino, imagem)\n",
        "    shutil.move(caminho_origem, caminho_destino)\n",
        "\n",
        "# Remover os diretórios de origem\n",
        "os.rmdir(diretorio_origem_car)\n",
        "os.rmdir(diretorio_origem_truck)\n",
        "\n",
        "#Validação\n",
        "\n",
        "diretorio_origem_car = './mvp/valid/Car'\n",
        "diretorio_origem_truck = './mvp/valid/Truck'\n",
        "diretorio_destino = './mvp/valid'\n",
        "\n",
        "# Mover imagens \"Car\" para o diretório de destino\n",
        "imagens_car = os.listdir(diretorio_origem_car)\n",
        "for imagem in imagens_car:\n",
        "    caminho_origem = os.path.join(diretorio_origem_car, imagem)\n",
        "    caminho_destino = os.path.join(diretorio_destino, imagem)\n",
        "    shutil.move(caminho_origem, caminho_destino)\n",
        "\n",
        "# Mover imagens \"Truck\" para o diretório de destino\n",
        "imagens_truck = os.listdir(diretorio_origem_truck)\n",
        "for imagem in imagens_truck:\n",
        "    caminho_origem = os.path.join(diretorio_origem_truck, imagem)\n",
        "    caminho_destino = os.path.join(diretorio_destino, imagem)\n",
        "    shutil.move(caminho_origem, caminho_destino)\n",
        "\n",
        "# Remover os diretórios de origem\n",
        "os.rmdir(diretorio_origem_car)\n",
        "os.rmdir(diretorio_origem_truck)\n",
        "print('Arquivos movidos para a pasta principal')"
      ]
    },
    {
      "cell_type": "markdown",
      "metadata": {
        "id": "04y4CyRdbJPn"
      },
      "source": [
        "Faço uma listagem dos arquivos que estão nas pastas train e valid"
      ]
    },
    {
      "cell_type": "code",
      "execution_count": null,
      "metadata": {
        "id": "kNzF4qx5bEaV"
      },
      "outputs": [],
      "source": [
        "#Lista 20 imagens aleatorias de cada diretorio de treino e validação\n",
        "\n",
        "import os\n",
        "import random\n",
        "\n",
        "diretorio_train = './mvp/train'\n",
        "diretorio_valid = './mvp/valid'\n",
        "num_amostras = 20\n",
        "\n",
        "def listar_nomes_imagens_aleatorias(diretorio, quantidade):\n",
        "    nomes_imagens = []\n",
        "    for raiz, diretorios, arquivos in os.walk(diretorio):\n",
        "        for nome_arquivo in arquivos:\n",
        "            if nome_arquivo.lower().endswith(('.jpeg', '.jpg')):\n",
        "                caminho_imagem = os.path.join(raiz, nome_arquivo)\n",
        "                nomes_imagens.append(caminho_imagem)\n",
        "\n",
        "    if len(nomes_imagens) <= quantidade:\n",
        "        return nomes_imagens\n",
        "    else:\n",
        "        return random.sample(nomes_imagens, quantidade)\n",
        "\n",
        "imagens_amostra_train = listar_nomes_imagens_aleatorias(diretorio_train, num_amostras)\n",
        "imagens_amostra_valid = listar_nomes_imagens_aleatorias(diretorio_valid, num_amostras)\n",
        "\n",
        "print(f\"Amostras das imagens do diretório '{diretorio_train}':\")\n",
        "for imagem in imagens_amostra_train:\n",
        "    print(imagem)\n",
        "\n",
        "print()\n",
        "\n",
        "print(f\"Amostras das imagens do diretório '{diretorio_valid}':\")\n",
        "for imagem in imagens_amostra_valid:\n",
        "    print(imagem)\n"
      ]
    },
    {
      "cell_type": "markdown",
      "metadata": {
        "id": "hzhdE7shbYlj"
      },
      "source": [
        "#### Verificando a quantidade de imagens das duas classes no diretorio de treino e validação\n"
      ]
    },
    {
      "cell_type": "code",
      "execution_count": null,
      "metadata": {
        "id": "BVXGhQ7Pbudr"
      },
      "outputs": [],
      "source": [
        "#verificando as quantidade de imagens de treino e de validação\n",
        "import os\n",
        "\n",
        "diretorio_base = './mvp'\n",
        "\n",
        "def contar_imagens(diretorio):\n",
        "    total_imagens = 0\n",
        "    for raiz, diretorios, arquivos in os.walk(diretorio):\n",
        "        for arquivo in arquivos:\n",
        "            if arquivo.lower().endswith(('.jpeg', '.jpg')):\n",
        "                total_imagens += 1\n",
        "    return total_imagens\n",
        "\n",
        "# Percorrer os diretórios em ./mvp\n",
        "for diretorio in os.listdir(diretorio_base):\n",
        "    diretorio_path = os.path.join(diretorio_base, diretorio)\n",
        "    if os.path.isdir(diretorio_path):\n",
        "        total = contar_imagens(diretorio_path)\n",
        "        print(f\"Total de imagens em {diretorio}: {total}\")"
      ]
    },
    {
      "cell_type": "markdown",
      "metadata": {
        "id": "u9mK2_jWcV4W"
      },
      "source": [
        "Criando dataframes com as informações das imagens para train e valid"
      ]
    },
    {
      "cell_type": "code",
      "execution_count": null,
      "metadata": {
        "id": "-cC6TcPjcwDO"
      },
      "outputs": [],
      "source": [
        "#Criando o Dataframe com as imagens de treino e teste\n",
        "\n",
        "import os\n",
        "import pandas as pd\n",
        "\n",
        "diretorio_train = './mvp/train'\n",
        "diretorio_valid = './mvp/valid'\n",
        "\n",
        "def criar_dataframe(diretorio):\n",
        "    dados = []\n",
        "    for raiz, diretorios, arquivos in os.walk(diretorio):\n",
        "        for nome_arquivo in arquivos:\n",
        "            if nome_arquivo.lower().endswith(('.jpeg', '.jpg')):\n",
        "                caminho_imagem = os.path.join(raiz, nome_arquivo)\n",
        "                dados.append({'Diretório': raiz, 'Imagem': nome_arquivo})\n",
        "    return pd.DataFrame(dados)\n",
        "\n",
        "df_train = criar_dataframe(diretorio_train)\n",
        "df_valid = criar_dataframe(diretorio_valid)\n",
        "\n",
        "print(\"Dataframe com as imagens do diretório 'train':\")\n",
        "display(df_train)\n",
        "\n",
        "print(\"\\nDataframe com as imagens do diretório 'valid':\")\n",
        "display(df_valid)\n"
      ]
    },
    {
      "cell_type": "markdown",
      "metadata": {
        "id": "SMSNGFkRdXhc"
      },
      "source": [
        "Criando os atributos necessários para desenvolver o trabalho"
      ]
    },
    {
      "cell_type": "code",
      "execution_count": null,
      "metadata": {
        "colab": {
          "base_uri": "https://localhost:8080/"
        },
        "id": "wB1J2y_QdOAy",
        "outputId": "bd9cf99f-a89f-4c86-b2a9-d34ca539c80c"
      },
      "outputs": [
        {
          "output_type": "stream",
          "name": "stdout",
          "text": [
            "DataFrames com os campos adicionados\n"
          ]
        }
      ],
      "source": [
        "#Criando os Atributos de Largura, Altura, Imagem, Canais, Classe\n",
        "import os\n",
        "import pandas as pd\n",
        "from PIL import Image\n",
        "\n",
        "diretorio_train = './mvp/train'\n",
        "diretorio_valid = './mvp/valid'\n",
        "\n",
        "dados_imagens_train = []\n",
        "dados_imagens_valid = []\n",
        "\n",
        "def processar_imagens(diretorio, dados_imagens):\n",
        "    for raiz, diretorios, arquivos in os.walk(diretorio):\n",
        "        for arquivo in arquivos:\n",
        "            if arquivo.lower().endswith(('.jpeg', '.jpg')):\n",
        "                caminho_arquivo = os.path.join(raiz, arquivo)\n",
        "                with Image.open(caminho_arquivo) as img:\n",
        "                    largura, altura = img.size\n",
        "                    canais = img.mode\n",
        "                    classe = 'Car' if 'car' in arquivo.lower() else 'Truck'\n",
        "                    dados_imagens.append({'Imagem': arquivo, 'Largura': largura, 'Altura': altura, 'Canais': canais, 'Classe': classe})\n",
        "\n",
        "processar_imagens(diretorio_train, dados_imagens_train)\n",
        "processar_imagens(diretorio_valid, dados_imagens_valid)\n",
        "\n",
        "df_train = pd.DataFrame(dados_imagens_train)\n",
        "df_valid = pd.DataFrame(dados_imagens_valid)\n",
        "\n",
        "print('DataFrames com os campos adicionados')\n"
      ]
    },
    {
      "cell_type": "markdown",
      "metadata": {
        "id": "E3qaxPdXd4N0"
      },
      "source": [
        "Visualização dos datasets com os atributos criados"
      ]
    },
    {
      "cell_type": "code",
      "execution_count": null,
      "metadata": {
        "id": "Rk6e3REKeA-O"
      },
      "outputs": [],
      "source": [
        "print(\"Dataframe com as imagens do diretório de treinamento:\")\n",
        "display(df_train)\n",
        "\n",
        "print(\"\\nDataframe com as imagens do diretório de validação:\")\n",
        "display(df_valid)"
      ]
    },
    {
      "cell_type": "markdown",
      "metadata": {
        "id": "zq528Xr1eRzN"
      },
      "source": [
        "Plotando um gráfico de barras empilhado com o numero de imagens por classe."
      ]
    },
    {
      "cell_type": "code",
      "execution_count": null,
      "metadata": {
        "id": "afx72tGNeg_y"
      },
      "outputs": [],
      "source": [
        "# Contagem das classes\n",
        "contagem_classes_train = df_train['Classe'].value_counts()\n",
        "contagem_classes_valid = df_valid['Classe'].value_counts()\n",
        "\n",
        "# Plotagem do gráfico de barras\n",
        "fig, ax = plt.subplots()\n",
        "bar_plot_train = contagem_classes_train.plot(kind='bar', ax=ax, color='blue', label='Train')\n",
        "bar_plot_valid = contagem_classes_valid.plot(kind='bar', ax=ax, color='orange', label='Valid')\n",
        "\n",
        "# Configurações do gráfico\n",
        "ax.set_title('Cars vs Trucks - Dados Disponíveis')\n",
        "ax.set_xlabel('Classe')\n",
        "ax.set_ylabel('Contagem')\n",
        "\n",
        "# Configuração da legenda\n",
        "ax.legend()\n",
        "\n",
        "# Exibição do gráfico\n",
        "plt.show()"
      ]
    },
    {
      "cell_type": "markdown",
      "metadata": {
        "id": "BzBLcAx2etsZ"
      },
      "source": [
        "Visualizando algumas imagens do conjunto de dados de treino"
      ]
    },
    {
      "cell_type": "code",
      "execution_count": null,
      "metadata": {
        "id": "th6tR-w5evbR"
      },
      "outputs": [],
      "source": [
        "\n",
        "#setando o diretorio onde se encontram as imagens\n",
        "diretorio_train = './mvp/train'\n",
        "#Setando o numero de imagens  serem exibidas\n",
        "num_imagens = 20\n",
        "#determinando o tamanho da imagem\n",
        "tamanho_imagem = (128, 128)\n",
        "\n",
        "# Selecionar aleatoriamente 20 índices de imagens do df_train\n",
        "indices_aleatorios = random.sample(range(len(df_train)), num_imagens)\n",
        "\n",
        "# Configurar a figura para exibir as imagens\n",
        "fig, axs = plt.subplots(4, 5, figsize=(12, 8))\n",
        "fig.subplots_adjust(hspace=0.4)\n",
        "\n",
        "# Plotar as imagens selecionadas aleatoriamente\n",
        "for i, indice in enumerate(indices_aleatorios):\n",
        "    imagem = df_train.loc[indice, 'Imagem']\n",
        "    caminho_imagem = os.path.join(diretorio_train, imagem)\n",
        "    img = Image.open(caminho_imagem)\n",
        "    img = img.resize(tamanho_imagem)\n",
        "\n",
        "    linha = i // 5\n",
        "    coluna = i % 5\n",
        "\n",
        "    axs[linha, coluna].imshow(img)\n",
        "    axs[linha, coluna].set_title(df_train.loc[indice, 'Classe'])\n",
        "    axs[linha, coluna].axis('off')\n",
        "\n",
        "plt.show()\n"
      ]
    },
    {
      "cell_type": "markdown",
      "metadata": {
        "id": "Jb7Dav_LgpiQ"
      },
      "source": [
        "Divisão dos dados em treino e teste: 30% das imagens para teste e 70% para treinamento do modelo de deep learning. Importante lembrar que os conjuntos devem ser disjuntos, ou seja, não devem poussir nenhum elemento em comum"
      ]
    },
    {
      "cell_type": "code",
      "execution_count": null,
      "metadata": {
        "id": "UqxvxEqLgwC7"
      },
      "outputs": [],
      "source": [
        "from sklearn.model_selection import train_test_split\n",
        "\n",
        "# Definir os campos a serem usados para a separação\n",
        "features = ['Imagem', 'Classe']\n",
        "\n",
        "# Separar os conjuntos de treino e teste\n",
        "train, test = train_test_split(df_train[features], test_size=0.3, random_state=42)"
      ]
    },
    {
      "cell_type": "markdown",
      "metadata": {
        "id": "dE4Sgi3Gg1vy"
      },
      "source": [
        "Visualizando a divisão dos dados de treino e de teste"
      ]
    },
    {
      "cell_type": "code",
      "execution_count": null,
      "metadata": {
        "id": "TVr56E3Qg4E2"
      },
      "outputs": [],
      "source": [
        "# Exibir informações sobre os conjuntos de treino e teste\n",
        "print(\"Conjunto de Treino:\")\n",
        "display(train)\n",
        "print(\"\")\n",
        "\n",
        "print(\"Conjunto de Teste:\")\n",
        "display(test)"
      ]
    },
    {
      "cell_type": "markdown",
      "metadata": {
        "id": "RRVzoDLnhMIP"
      },
      "source": [
        "Vamos utilizaar uma técnica amplamente utilizada no campo de aprendizado de máquina e visão computacional para aumentar a diversidade e a quantidade de dados de treinamento, aplicando transformações às imagens existentes. A técnica utilizada é o data augmentation, sob demanda durante o treinamento do modelo.\n"
      ]
    },
    {
      "cell_type": "code",
      "execution_count": null,
      "metadata": {
        "id": "gfr5ES0F0z8G"
      },
      "outputs": [],
      "source": [
        "import os\n",
        "import pandas as pd\n",
        "from PIL import Image\n",
        "from sklearn.model_selection import train_test_split\n",
        "from tensorflow.keras.preprocessing.image import ImageDataGenerator\n",
        "diretorio_train = './mvp/train'\n",
        "diretorio_valid = './mvp/valid'\n",
        "target_size = (128, 128) # Dimensões desejadas das imagens (largura, altura)\n",
        "batch_size = 32  # Tamanho do lote de dados\n",
        "\n",
        "# Configurar o ImageDataGenerator com split de validação e parâmetros solicitados\n",
        "print('Configurando o ImageDataGenerator')\n",
        "train_datagen = ImageDataGenerator(validation_split=0.2,\n",
        "                             rescale=1.0/255,\n",
        "                             rotation_range=48,\n",
        "                             shear_range=0.2,\n",
        "                             zoom_range=0.2,\n",
        "                             horizontal_flip=True,\n",
        "                             fill_mode='nearest')\n",
        "\n",
        "print('---------------------------')\n",
        "\n",
        "print('Gerando dados teste')\n",
        "test_datagen=ImageDataGenerator(rescale=1./255)\n",
        "print('---------------------------- ')\n",
        "# Gerar os dados de treino\n",
        "print('Gerando dados de treino')\n",
        "train_generator=train_datagen.flow_from_dataframe(\n",
        "    train ,diretorio_train,\n",
        "    target_size=(128,128),\n",
        "    batch_size=50,\n",
        "    class_mode='binary',\n",
        "    x_col='Imagem',\n",
        "    y_col='Classe',\n",
        "    subset='training' #training set\n",
        "    )\n",
        "\n",
        "print('---------------------------')\n",
        "\n",
        "\n",
        "# Gerar os dados de validação\n",
        "print('Gerando dados de validação')\n",
        "val_generator=train_datagen.flow_from_dataframe(\n",
        "    train ,diretorio_train,\n",
        "    target_size=(128,128),\n",
        "    batch_size=50,\n",
        "    class_mode='binary',\n",
        "    x_col='Imagem',\n",
        "    y_col='Classe',\n",
        "    subset='validation' #validation  set\n",
        "    )\n",
        "print('------------------------------')\n",
        "\n",
        "# Gerar os dados de teste\n",
        "\n",
        "print('Gerando dados de Teste')\n",
        "\n",
        "test_generator=train_datagen.flow_from_dataframe(\n",
        "    test ,diretorio_train,\n",
        "    target_size=(128,128),\n",
        "    batch_size=50,\n",
        "    class_mode='binary',\n",
        "    x_col='Imagem',\n",
        "    y_col='Classe',\n",
        "    subset='training') #teste\n",
        "\n",
        "print('------------------------------')"
      ]
    },
    {
      "cell_type": "markdown",
      "metadata": {
        "id": "Gc4-RkGR1Lqe"
      },
      "source": [
        "Visualizando um exemplo do tratamento das imagens"
      ]
    },
    {
      "cell_type": "code",
      "execution_count": null,
      "metadata": {
        "id": "iSm0Hakm1X0X"
      },
      "outputs": [],
      "source": [
        "\n",
        "# Pegando um registro do dataframe\n",
        "sample = df_train.sample(n=1)\n",
        "\n",
        "# Neste caso o tipo de classe é categorico, pois temos um exemplo com apenas uma classe\n",
        "sample_generator = train_datagen.flow_from_dataframe(\n",
        "    sample,\n",
        "    diretorio_train,\n",
        "    x_col='Imagem',\n",
        "    y_col='Classe',\n",
        "    target_size=(128,128),\n",
        "    class_mode='categorical'\n",
        ")\n",
        "\n",
        "plt.figure(figsize=(12, 9))\n",
        "for i in range(9):\n",
        "    plt.subplot(3, 3, i+1)\n",
        "    for x_batch, y_batch in sample_generator:\n",
        "        Imagem = x_batch[0]\n",
        "        plt.imshow(Imagem)\n",
        "        plt.axis('Off')\n",
        "        break\n",
        "plt.tight_layout()\n",
        "plt.show()"
      ]
    },
    {
      "cell_type": "markdown",
      "metadata": {
        "id": "KaB-U8ao2DW3"
      },
      "source": [
        "###Configuração de um modelo de deep learning usando uma rede neural convolucional (CNN) simples com a biblioteca Keras\n",
        "\n",
        "#### Definição da arquitetura do modelo\n",
        "\n",
        "Aqui é especificada uma `camada convolucional 2D` que possui 32 filtros, um tamanho de filtro de 3x3 que usa a função de ativação `ReLU`. O parâmetro `input_shape` define a forma das imagens de entrada para a rede. Na sequência são adicionadas camadas `max-pooling` com a mesma função de ativação."
      ]
    },
    {
      "cell_type": "code",
      "execution_count": null,
      "metadata": {
        "id": "fOaGueU52CFR"
      },
      "outputs": [],
      "source": [
        "from tensorflow.keras.models import Sequential\n",
        "from tensorflow.keras.layers import Conv2D, MaxPooling2D, Flatten, Dense\n",
        "\n",
        "# Crie o modelo da CNN\n",
        "model = Sequential()\n",
        "\n",
        "# Adicione as camadas convolucionais\n",
        "model.add(Conv2D(32, (3, 3), activation='relu', input_shape=(128, 128, 3)))\n",
        "model.add(MaxPooling2D((2, 2)))\n",
        "\n",
        "model.add(Conv2D(64, (3, 3), activation='relu'))\n",
        "model.add(MaxPooling2D((2, 2)))\n",
        "\n",
        "model.add(Conv2D(128, (3, 3), activation='relu'))\n",
        "model.add(MaxPooling2D((2, 2)))\n",
        "\n",
        "# Flatten\n",
        "model.add(Flatten())\n",
        "\n",
        "# Adicione camadas densas\n",
        "model.add(Dense(128, activation='relu'))\n",
        "model.add(Dense(1, activation='sigmoid'))  # Para um problema de classificação binária\n",
        "\n",
        "model.summary()"
      ]
    },
    {
      "cell_type": "markdown",
      "metadata": {
        "id": "1r00TvzF2x_I"
      },
      "source": [
        "###Treinamento do modelo de deep learning\n",
        "\n",
        "#### Compilação do modelo Keras com as configurações do treinamento\n",
        "\n",
        "`optimizer='adam'`: especifica o otimizador a ser usado durante o treinamento.\n",
        "\n",
        "`loss='binary_crossentropy'`: especifica a função de perda a ser usada durante o treinamento. Para problemas de classificação binária, onde a variável alvo tem apenas duas categorias, a perda binária de entropia cruzada é freqüentemente empregada.\n",
        "\n",
        "`metrics=['accuracy']`: especifica as métricas de avaliação a serem usadas durante o treinamento e o teste."
      ]
    },
    {
      "cell_type": "code",
      "execution_count": null,
      "metadata": {
        "id": "-IVo4GwE31Sn"
      },
      "outputs": [],
      "source": [
        "# Compile o modelo\n",
        "model.compile(optimizer='adam', loss='binary_crossentropy', metrics=['accuracy'])"
      ]
    },
    {
      "cell_type": "markdown",
      "metadata": {
        "id": "56FhV_Fj34uR"
      },
      "source": [
        "O método fit() inicia o processo de treinamento do modelo usando o gerador de dados para o treinamento train_generator e o gerador de dados de validação val_generator.\n",
        "Criado uma função para guardar as métricas de treinamento e validação."
      ]
    },
    {
      "cell_type": "code",
      "execution_count": null,
      "metadata": {
        "id": "JbdAicto29T2"
      },
      "outputs": [],
      "source": [
        "import numpy as np\n",
        "import matplotlib.pyplot as plt\n",
        "from tensorflow.keras.callbacks import Callback\n",
        "\n",
        "# Criar um callback personalizado para salvar as métricas de treinamento e validação\n",
        "class MetricsCallback(Callback):\n",
        "    def __init__(self):\n",
        "        self.train_accuracy = []\n",
        "        self.val_accuracy = []\n",
        "        self.train_loss = []\n",
        "        self.val_loss = []\n",
        "\n",
        "    def on_epoch_end(self, epoch, logs=None):\n",
        "        self.train_accuracy.append(logs['accuracy'])\n",
        "        self.val_accuracy.append(logs['val_accuracy'])\n",
        "        self.train_loss.append(logs['loss'])\n",
        "        self.val_loss.append(logs['val_loss'])\n",
        "\n",
        "# Criar uma instância do callback personalizado\n",
        "metrics_callback = MetricsCallback()\n",
        "\n",
        "# Definir número de épocas e steps por época\n",
        "num_epochs = 100\n",
        "steps_per_epoch = 58\n",
        "\n",
        "# Treinar o modelo usando o callback e os parâmetros definidos\n",
        "model.fit_generator(train_generator, validation_data=val_generator, epochs=num_epochs, steps_per_epoch=steps_per_epoch, callbacks=[metrics_callback])\n",
        "\n",
        "# Avaliar o modelo no conjunto de teste\n",
        "test_loss, test_accuracy = model.evaluate(test_generator)\n",
        "\n",
        "# Obter as métricas do callback personalizado\n",
        "train_accuracy = metrics_callback.train_accuracy\n",
        "val_accuracy = metrics_callback.val_accuracy\n",
        "train_loss = metrics_callback.train_loss\n",
        "val_loss = metrics_callback.val_loss\n",
        "\n",
        "# Criar um array com o número de épocas\n",
        "epochs = range(1, len(train_accuracy) + 1)\n",
        "\n",
        "# Plotar a acurácia\n",
        "plt.plot(epochs, train_accuracy, 'bo-', label='Training Accuracy')\n",
        "plt.plot(epochs, val_accuracy, 'ro-', label='Validation Accuracy')\n",
        "plt.axhline(test_accuracy, color='g', linestyle='-', label='Test Accuracy')\n",
        "plt.title('Training, Validation, and Test Accuracy')\n",
        "plt.xlabel('Epochs')\n",
        "plt.ylabel('Accuracy')\n",
        "plt.legend()\n",
        "plt.show()\n",
        "\n",
        "# Plotar a perda\n",
        "plt.plot(epochs, train_loss, 'bo-', label='Training Loss')\n",
        "plt.plot(epochs, val_loss, 'ro-', label='Validation Loss')\n",
        "plt.axhline(test_loss, color='g', linestyle='-', label='Test Loss')\n",
        "plt.title('Training, Validation, and Test Loss')\n",
        "plt.xlabel('Epochs')\n",
        "plt.ylabel('Loss')\n",
        "plt.legend()\n",
        "plt.show()\n"
      ]
    },
    {
      "cell_type": "markdown",
      "metadata": {
        "id": "QbOaQ90B72mJ"
      },
      "source": [
        "###Carregando o modelo\n",
        "\n",
        "Carregando o modelo salvo para ganho de tempo na correção."
      ]
    },
    {
      "cell_type": "code",
      "source": [
        "import requests\n",
        "import os\n",
        "import keras\n",
        "\n",
        "# URL do modelo\n",
        "url_model = 'http://liessin.com.br/mvp/sprint2/trained_model.h5'\n",
        "\n",
        "# Caminho local para salvar o modelo\n",
        "local_path = 'trained_model.h5'\n",
        "\n",
        "# Baixar o modelo do URL e salvá-lo localmente\n",
        "response = requests.get(url_model)\n",
        "with open(local_path, 'wb') as f:\n",
        "    f.write(response.content)\n",
        "\n",
        "# Carregar o modelo\n",
        "loaded_model = keras.models.load_model(local_path)\n",
        "print(\"Modelo carregado com sucesso.\",local_path)"
      ],
      "metadata": {
        "id": "TzWDkOzBpan4"
      },
      "execution_count": null,
      "outputs": []
    },
    {
      "cell_type": "markdown",
      "metadata": {
        "id": "Hi0di5Bpxmes"
      },
      "source": [
        "Inicialmente, a acurácia estava em 0,6136, o que significa que o modelo estava classificando corretamente cerca de 61% dos exemplos. No entanto, após o treinamento, a acurácia aumentou para 0,9560, indicando que o modelo melhorou e agora classifica corretamente cerca de 96% dos exemplos com dos dados de treino.\n",
        "\n",
        "Da mesma forma, a perda inicial era de 0,6373, e após o treinamento, a perda diminuiu para 0,1030. Uma perda menor indica que o modelo está fazendo previsões mais precisas e se ajustando melhor aos dados de treino.\n",
        "\n",
        "Portanto, podemos concluir que o treinamento do modelo CNN com 100 épocas foi eficaz, pois resultou em uma melhoria significativa na acurácia e uma redução na perda. Isso indica que o modelo foi capaz de aprender e se ajustar aos dados de treinamento, fornecendo previsões mais precisas.\n",
        "\n",
        "Com os dados de teste obtivemos uma perda de  0.4562  e uma acurácia de 0.8666 ou seja 87% dos dados."
      ]
    },
    {
      "cell_type": "markdown",
      "metadata": {
        "id": "RS_FEJG_58gA"
      },
      "source": [
        "###Avaliação do modelo de deep learning\n",
        "\n",
        "Acurácia do modelo nos dados de teste"
      ]
    },
    {
      "cell_type": "code",
      "execution_count": null,
      "metadata": {
        "id": "7NfQF8yo6JfC"
      },
      "outputs": [],
      "source": [
        "# Avaliar o modelo nos dados de teste\n",
        "test_loss, test_accuracy = model.evaluate(test_generator)\n",
        "\n",
        "# Imprimir a perda e        a acurácia\n",
        "print(\"Perda nos dados de teste: {:.4f}\".format(test_loss))\n",
        "print(\"Acurácia nos dados de teste: {:.2f}%\".format(test_accuracy * 100))"
      ]
    },
    {
      "cell_type": "markdown",
      "metadata": {
        "id": "SSheqvPV5Qd7"
      },
      "source": [
        "###Execução do modelo treinado em um subconjunto das imagems de teste\n",
        "Idealmente se deseja realizar a inferência sobre todo o conjunto de teste, porém para efeitos de agilidade, executamos apenas em um subconjunto de imagens."
      ]
    },
    {
      "cell_type": "code",
      "source": [
        "count = 0\n",
        "y_pred = list()\n",
        "y_true = list()\n",
        "class_names = ['Car', 'Truck']\n",
        "\n",
        "# Loop do data generator de teste que contem as imagens\n",
        "for batch in test_generator:\n",
        "\n",
        "    count+=1\n",
        "\n",
        "    # Condição de saída do loop. Só executaremos o modelo em algumas imagens\n",
        "    if count == 2:\n",
        "        break\n",
        "\n",
        "    else:\n",
        "\n",
        "        # Pegando a imagem e o label\n",
        "        images = batch[0]\n",
        "        labels = batch[1]\n",
        "\n",
        "        # Previsão\n",
        "        predictions = model.predict(images)\n",
        "\n",
        "        # Visualização da imagem\n",
        "        for i in range(len(images)):\n",
        "\n",
        "            image = images[i]\n",
        "            label = labels[i]\n",
        "            prediction = predictions[i]\n",
        "\n",
        "            # Converte o array de previsão para visualizar a classe e a probabilidade\n",
        "            predicted_class = np.argmax(prediction)\n",
        "            probability = prediction[predicted_class]\n",
        "            label = class_names[int(label)]\n",
        "            y_true.append(label)\n",
        "\n",
        "            # Faz o DE-PARA da probabilidade com o tipo de classe da previsão\n",
        "            class_name = 'Car' if prediction >= 0.5 else 'Truck'\n",
        "            y_pred.append(class_name)\n",
        "\n",
        "            # Configura a saída das imagens que serão visualizadas\n",
        "            plt.imshow(images[i])\n",
        "            plt.axis('Off')\n",
        "            plt.show()\n",
        "\n",
        "            # Imprime os resultados da classificação das images\n",
        "            print(\"Label: \", label)\n",
        "            print(\"Previsão: \", class_name)\n",
        "            print(\"Probabilidade: \", probability)"
      ],
      "metadata": {
        "id": "uwDO3VzhBZNv"
      },
      "execution_count": null,
      "outputs": []
    },
    {
      "cell_type": "code",
      "source": [
        "print(y_pred)\n",
        "print(y_true)\n"
      ],
      "metadata": {
        "id": "1m6hKXB5Bt7i"
      },
      "execution_count": null,
      "outputs": []
    },
    {
      "cell_type": "code",
      "execution_count": null,
      "metadata": {
        "colab": {
          "background_save": true
        },
        "id": "D8-rjuck5Wfk"
      },
      "outputs": [],
      "source": [
        "\n",
        "def test_model(model, test_generator):\n",
        "    count = 0\n",
        "    y_pred = []\n",
        "    y_true = []\n",
        "    class_names = ['Car', 'Truck']\n",
        "    contador = 1\n",
        "\n",
        "\n",
        "    # Loop do data generator de teste que contem as imagens\n",
        "    for batch in test_generator:\n",
        "        # Pegando a imagem e o label\n",
        "        images = batch[0]\n",
        "        labels = batch[1]\n",
        "\n",
        "        # Previsão\n",
        "        predictions = model.predict(images)\n",
        "\n",
        "        # Visualização da imagem\n",
        "        for i in range(len(images)):\n",
        "\n",
        "            imagem = images[i]\n",
        "            label = labels[i]\n",
        "            prediction = predictions[i]\n",
        "\n",
        "            # Converte o array de previsão para visualizar a classe e a probabilidade\n",
        "            predicted_class = np.argmax(prediction)\n",
        "            probability = prediction[predicted_class]\n",
        "            label = class_names[int(label)]\n",
        "            y_true.append(label)\n",
        "\n",
        "            # Faz o DE-PARA da probabilidade com o tipo de classe da previsão\n",
        "            class_name = 'Truck' if prediction >= 0.5 else 'Car'\n",
        "            y_pred.append(class_name)\n",
        "\n",
        "            # Configura a saída das imagens que serão visualizadas\n",
        "            plt.imshow(imagem)\n",
        "            plt.axis('off')\n",
        "            plt.show()\n",
        "            # Imprime os resultados da classificação das imagens\n",
        "            print(\"Label: \", label)\n",
        "            print(\"Previsão: \", class_name)\n",
        "            print(\"Probabilidade: \", probability)\n",
        "            print('Número da Imagem: ', contador)\n",
        "            contador += 1\n",
        "\n",
        "\n",
        "\n",
        "\n",
        "\n",
        "# Chamar a função para testar o modelo\n",
        "test_model(model, test_generator)\n"
      ]
    },
    {
      "cell_type": "code",
      "source": [
        "print(y_pred.value_counts)"
      ],
      "metadata": {
        "id": "AeVQEqpNAYC7"
      },
      "execution_count": null,
      "outputs": []
    },
    {
      "cell_type": "markdown",
      "metadata": {
        "id": "CY9zrYVt6oVJ"
      },
      "source": [
        "### Visualização de métricas da avaliação do modelo\n",
        "\n",
        "Métricas de performance do modelo no subconjunto das imagens de teste"
      ]
    },
    {
      "cell_type": "code",
      "execution_count": null,
      "metadata": {
        "id": "TT66iTKU7WrM"
      },
      "outputs": [],
      "source": [
        "accuracy = skm.accuracy_score(y_true, y_pred)\n",
        "precision = skm.precision_score(y_true, y_pred, average='weighted')\n",
        "recall = skm.recall_score(y_true, y_pred, average='weighted')\n",
        "f1score = skm.f1_score(y_true, y_pred, average='weighted')\n",
        "\n",
        "print(\"Accuracy: \", accuracy)\n",
        "print(\"Precision: \", precision)\n",
        "print(\"Recall: \", recall)\n",
        "print(\"F1 Score: \", f1score)"
      ]
    },
    {
      "cell_type": "code",
      "execution_count": null,
      "metadata": {
        "id": "vsKVsNOE6qLl"
      },
      "outputs": [],
      "source": [
        "from sklearn.metrics import classification_report, confusion_matrix\n",
        "\n",
        "# Fazer as previsões no subconjunto de imagens de teste\n",
        "y_pred = model.predict(test_generator)\n",
        "\n",
        "y_pred = np.argmax(y_pred, axis=1)  # Converte as previsões para as classes preditas\n",
        "\n",
        "# Obter os rótulos verdadeiros do subconjunto de imagens de teste\n",
        "y_true = test_generator.classes\n",
        "\n",
        "# Calcular a matriz de confusão\n",
        "confusion = confusion_matrix(y_true, y_pred)\n",
        "class_names = ['Car', 'Truck']\n",
        "\n",
        "# Calcular as métricas de classificação (precisão, recall, F1-score)\n",
        "classification = classification_report(y_true, y_pred, target_names=class_names)\n",
        "\n",
        "# Imprimir a matriz de confusão e as métricas de classificação\n",
        "print(\"Matriz de Confusão:\")\n",
        "print(confusion)\n",
        "print(\"\\nMétricas de Classificação:\")\n",
        "print(classification)\n"
      ]
    },
    {
      "cell_type": "code",
      "source": [
        "from sklearn.metrics import classification_report, confusion_matrix\n",
        "import numpy as np\n",
        "\n",
        "# Fazer as previsões no subconjunto de imagens de teste\n",
        "y_pred = model.predict(test_generator)\n",
        "\n",
        "# Converter as previsões para as classes preditas\n",
        "#y_pred = np.argmax(y_pred, axis=1)\n",
        "\n",
        "# Aplicar a regra de atribuição de 0 ou 1\n",
        "for i in range(len(y_pred)):\n",
        "    if y_pred[i] < 0.5:\n",
        "        y_pred[i] = 0\n",
        "    else:\n",
        "        y_pred[i] = 1\n",
        "\n",
        "# Obter os rótulos verdadeiros do subconjunto de imagens de teste\n",
        "y_true = test_generator.classes\n",
        "\n",
        "# Calcular a matriz de confusão\n",
        "confusion = confusion_matrix(y_true, y_pred)\n",
        "class_names = ['Car', 'Truck']\n",
        "\n",
        "# Calcular as métricas de classificação (precisão, recall, F1-score)\n",
        "classification = classification_report(y_true, y_pred, target_names=class_names)\n",
        "\n",
        "# Imprimir a matriz de confusão e as métricas de classificação\n",
        "print(\"Matriz de Confusão:\")\n",
        "print(confusion)\n",
        "print(\"\\nMétricas de Classificação:\")\n",
        "print(classification)\n"
      ],
      "metadata": {
        "id": "1rZcMx0jLk56"
      },
      "execution_count": null,
      "outputs": []
    },
    {
      "cell_type": "code",
      "source": [
        "set(y_pred)"
      ],
      "metadata": {
        "colab": {
          "base_uri": "https://localhost:8080/"
        },
        "id": "_HOPphbqDtbg",
        "outputId": "433e1ec5-70bd-4f18-8fa8-72104c937fa2"
      },
      "execution_count": null,
      "outputs": [
        {
          "output_type": "execute_result",
          "data": {
            "text/plain": [
              "{0}"
            ]
          },
          "metadata": {},
          "execution_count": 69
        }
      ]
    },
    {
      "cell_type": "markdown",
      "metadata": {
        "id": "c0iNiAFZ8P6x"
      },
      "source": [
        "Matriz de confusão para identificar onde o modelo de deep learning acertou e errou na classificação do subconjunto de imagens de teste"
      ]
    },
    {
      "cell_type": "code",
      "execution_count": null,
      "metadata": {
        "id": "YmaDsFyd8Oqn"
      },
      "outputs": [],
      "source": [
        "import numpy as np\n",
        "import matplotlib.pyplot as plt\n",
        "import seaborn as sns\n",
        "from sklearn.metrics import confusion_matrix\n",
        "\n",
        "# Fazer as previsões no subconjunto de imagens de teste\n",
        "y_pred = model.predict(test_generator)\n",
        "#y_pred = np.argmax(y_pred, axis=1)  # Converte as previsões para as classes preditas\n",
        "\n",
        "# Aplicar a regra de atribuição de 0 ou 1\n",
        "for i in range(len(y_pred)):\n",
        "    if y_pred[i] < 0.5:\n",
        "        y_pred[i] = 0\n",
        "    else:\n",
        "        y_pred[i] = 1\n",
        "# Obter os rótulos verdadeiros do subconjunto de imagens de teste\n",
        "y_true = test_generator.classes\n",
        "\n",
        "# Calcular a matriz de confusão\n",
        "confusion = confusion_matrix(y_true, y_pred)\n",
        "\n",
        "# Criar um heatmap da matriz de confusão\n",
        "sns.heatmap(confusion, annot=True, fmt=\"d\", cmap=\"Blues\")\n",
        "\n",
        "# Definir rótulos dos eixos\n",
        "plt.xlabel('Classe Predita')\n",
        "plt.ylabel('Classe Verdadeira')\n",
        "\n",
        "# Definir título do gráfico\n",
        "plt.title('Matriz de Confusão')\n",
        "\n",
        "# Exibir o gráfico\n",
        "plt.show()\n"
      ]
    },
    {
      "cell_type": "markdown",
      "metadata": {
        "id": "4PW5DoJA4rkE"
      },
      "source": [
        "###Exportação do modelo de deep learning para posterior uso\n",
        "\n",
        "Salvando o modelo de deep learning que foi treinado"
      ]
    },
    {
      "cell_type": "code",
      "execution_count": null,
      "metadata": {
        "colab": {
          "base_uri": "https://localhost:8080/"
        },
        "id": "Q4oeEAFZ7pVl",
        "outputId": "bb91044c-30b7-47ff-c157-58eef3d5aa21"
      },
      "outputs": [
        {
          "output_type": "stream",
          "name": "stdout",
          "text": [
            "Modelo salvo com o nome:  trained_model_2023-07-17T2226.h5\n"
          ]
        }
      ],
      "source": [
        "# obtendo a data e hora atual\n",
        "now = datetime.now()\n",
        "\n",
        "# Definição do formato\n",
        "format = '%Y-%m-%dT%H%M'\n",
        "\n",
        "# Converter a data e hora em uma string com o formato especificado\n",
        "formatted_datetime = now.strftime(format)\n",
        "\n",
        "path_model = 'mvp/trained_models'\n",
        "\n",
        "name_model = 'trained_model_' + formatted_datetime + '.h5'\n",
        "\n",
        "# salvando o modelo\n",
        "model.save(\"%s/%s\" % (path_model, name_model))\n",
        "print(\"Modelo salvo com o nome: \", name_model)"
      ]
    },
    {
      "cell_type": "code",
      "execution_count": null,
      "metadata": {
        "id": "84sZSQ6I87a8"
      },
      "outputs": [],
      "source": [
        "count = 0\n",
        "y_pred = list()\n",
        "y_true = list()\n",
        "class_names = ['Car', 'Truck']\n",
        "Imagem=0\n",
        "# Loop do data generator de teste que contem as imagens\n",
        "for batch in test_generator:\n",
        "\n",
        "    count+=1\n",
        "\n",
        "    # Condição de saída do loop. Só executaremos o modelo em algumas imagens\n",
        "    if count == 2:\n",
        "        break\n",
        "\n",
        "    else:\n",
        "\n",
        "        # Pegando a imagem e o label\n",
        "        images = batch[0]\n",
        "        labels = batch[1]\n",
        "\n",
        "        # Previsão\n",
        "        predictions = loaded_model.predict(images)\n",
        "\n",
        "        # Visualização da imagem\n",
        "        for i in range(len(images)):\n",
        "            Imagem +=1\n",
        "            image = images[i]\n",
        "            label = labels[i]\n",
        "            prediction = predictions[i]\n",
        "\n",
        "            # Converte o array de previsão para visualizar a classe e a probabilidade\n",
        "            predicted_class = np.argmax(prediction)\n",
        "            probability = prediction[predicted_class]\n",
        "            label = class_names[int(label)]\n",
        "            y_true.append(label)\n",
        "\n",
        "            # Faz o DE-PARA da probabilidade com o tipo de classe da previsão\n",
        "            class_name = 'Car' if prediction >= 0.5 else 'Truck'\n",
        "            y_pred.append(class_name)\n",
        "\n",
        "            # Configura a saída das imagens que serão visualizadas\n",
        "            plt.imshow(images[i])\n",
        "            plt.axis('Off')\n",
        "            plt.show()\n",
        "\n",
        "            # Imprime os resultados da classificação das images\n",
        "            print(\"Label: \", label)\n",
        "            print(\"Previsão: \", class_name)\n",
        "            print(\"Probabilidade: \", probability)\n",
        "            print(\"Imagem: \", Imagem)"
      ]
    }
  ],
  "metadata": {
    "colab": {
      "collapsed_sections": [
        "rAiBc-RPKXCU"
      ],
      "provenance": [],
      "include_colab_link": true
    },
    "kernelspec": {
      "display_name": "Python 3",
      "language": "python",
      "name": "python3"
    },
    "language_info": {
      "codemirror_mode": {
        "name": "ipython",
        "version": 3
      },
      "file_extension": ".py",
      "mimetype": "text/x-python",
      "name": "python",
      "nbconvert_exporter": "python",
      "pygments_lexer": "ipython3",
      "version": "3.10.10"
    }
  },
  "nbformat": 4,
  "nbformat_minor": 0
}